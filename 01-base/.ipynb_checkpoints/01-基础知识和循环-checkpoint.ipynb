{
 "cells": [
  {
   "cell_type": "code",
   "execution_count": 1,
   "metadata": {},
   "outputs": [],
   "source": [
    "#改变自己，从现在做起！"
   ]
  },
  {
   "cell_type": "code",
   "execution_count": 2,
   "metadata": {},
   "outputs": [
    {
     "name": "stdout",
     "output_type": "stream",
     "text": [
      "123\n"
     ]
    }
   ],
   "source": [
    "a = input()"
   ]
  },
  {
   "cell_type": "code",
   "execution_count": 3,
   "metadata": {},
   "outputs": [
    {
     "data": {
      "text/plain": [
       "int"
      ]
     },
     "execution_count": 3,
     "metadata": {},
     "output_type": "execute_result"
    }
   ],
   "source": [
    "type(1)"
   ]
  },
  {
   "cell_type": "code",
   "execution_count": 4,
   "metadata": {},
   "outputs": [
    {
     "data": {
      "text/plain": [
       "str"
      ]
     },
     "execution_count": 4,
     "metadata": {},
     "output_type": "execute_result"
    }
   ],
   "source": [
    "type(a)"
   ]
  },
  {
   "cell_type": "code",
   "execution_count": 5,
   "metadata": {},
   "outputs": [],
   "source": [
    "#基本运算符"
   ]
  },
  {
   "cell_type": "code",
   "execution_count": 6,
   "metadata": {},
   "outputs": [],
   "source": [
    "a,b= 1,2"
   ]
  },
  {
   "cell_type": "code",
   "execution_count": 7,
   "metadata": {},
   "outputs": [
    {
     "data": {
      "text/plain": [
       "1"
      ]
     },
     "execution_count": 7,
     "metadata": {},
     "output_type": "execute_result"
    }
   ],
   "source": [
    "a"
   ]
  },
  {
   "cell_type": "code",
   "execution_count": 8,
   "metadata": {},
   "outputs": [
    {
     "data": {
      "text/plain": [
       "2"
      ]
     },
     "execution_count": 8,
     "metadata": {},
     "output_type": "execute_result"
    }
   ],
   "source": [
    "b"
   ]
  },
  {
   "cell_type": "code",
   "execution_count": 10,
   "metadata": {},
   "outputs": [
    {
     "data": {
      "text/plain": [
       "'\\n运算符\\t描述\\t实例\\n+=\\t加法赋值运算符\\tc += a 等效于 c = c + a\\n-=\\t减法赋值运算符\\tc -= a 等效于 c = c - a\\n*=\\t乘法赋值运算符\\tc *= a 等效于 c = c * a\\n/=\\t除法赋值运算符\\tc /= a 等效于 c = c / a\\n%=\\t取模赋值运算符\\tc %= a 等效于 c = c % a\\n**=\\t幂赋值运算符\\tc **= a 等效于 c = c ** a\\n//=\\t取整除赋值运算符\\tc //= a 等效于 c = c // a\\n'"
      ]
     },
     "execution_count": 10,
     "metadata": {},
     "output_type": "execute_result"
    }
   ],
   "source": [
    "'''\n",
    "运算符\t描述\t实例\n",
    "+=\t加法赋值运算符\tc += a 等效于 c = c + a\n",
    "-=\t减法赋值运算符\tc -= a 等效于 c = c - a\n",
    "*=\t乘法赋值运算符\tc *= a 等效于 c = c * a\n",
    "/=\t除法赋值运算符\tc /= a 等效于 c = c / a\n",
    "%=\t取模赋值运算符\tc %= a 等效于 c = c % a\n",
    "**=\t幂赋值运算符\tc **= a 等效于 c = c ** a\n",
    "//=\t取整除赋值运算符\tc //= a 等效于 c = c // a\n",
    "'''"
   ]
  },
  {
   "cell_type": "code",
   "execution_count": 11,
   "metadata": {},
   "outputs": [],
   "source": [
    "a = '100'\n",
    "b = int(a)"
   ]
  },
  {
   "cell_type": "code",
   "execution_count": 12,
   "metadata": {},
   "outputs": [
    {
     "name": "stdout",
     "output_type": "stream",
     "text": [
      "a = 100\n"
     ]
    }
   ],
   "source": [
    "print(\"a = %d\"%b)"
   ]
  },
  {
   "cell_type": "code",
   "execution_count": 13,
   "metadata": {},
   "outputs": [
    {
     "data": {
      "text/plain": [
       "30"
      ]
     },
     "execution_count": 13,
     "metadata": {},
     "output_type": "execute_result"
    }
   ],
   "source": [
    "#逻辑运算符\n",
    "20 and 30"
   ]
  },
  {
   "cell_type": "code",
   "execution_count": 15,
   "metadata": {},
   "outputs": [
    {
     "data": {
      "text/plain": [
       "False"
      ]
     },
     "execution_count": 15,
     "metadata": {},
     "output_type": "execute_result"
    }
   ],
   "source": [
    "False and 30"
   ]
  },
  {
   "cell_type": "code",
   "execution_count": 16,
   "metadata": {},
   "outputs": [],
   "source": [
    "# 布尔\"与\" - 如果 x 为 False，x and y 返回 False，否则它返回 y 的计算值。"
   ]
  },
  {
   "cell_type": "code",
   "execution_count": 17,
   "metadata": {},
   "outputs": [
    {
     "data": {
      "text/plain": [
       "30"
      ]
     },
     "execution_count": 17,
     "metadata": {},
     "output_type": "execute_result"
    }
   ],
   "source": [
    "True and 30"
   ]
  },
  {
   "cell_type": "code",
   "execution_count": 18,
   "metadata": {},
   "outputs": [
    {
     "data": {
      "text/plain": [
       "30"
      ]
     },
     "execution_count": 18,
     "metadata": {},
     "output_type": "execute_result"
    }
   ],
   "source": [
    "False or 30"
   ]
  },
  {
   "cell_type": "code",
   "execution_count": 19,
   "metadata": {},
   "outputs": [
    {
     "data": {
      "text/plain": [
       "True"
      ]
     },
     "execution_count": 19,
     "metadata": {},
     "output_type": "execute_result"
    }
   ],
   "source": [
    "True or 30"
   ]
  },
  {
   "cell_type": "code",
   "execution_count": 20,
   "metadata": {},
   "outputs": [],
   "source": [
    "# 布尔\"或\" - 如果 x 是 True，它返回 True，否则它返回 y 的计算值。"
   ]
  },
  {
   "cell_type": "code",
   "execution_count": 21,
   "metadata": {},
   "outputs": [
    {
     "data": {
      "text/plain": [
       "False"
      ]
     },
     "execution_count": 21,
     "metadata": {},
     "output_type": "execute_result"
    }
   ],
   "source": [
    "not 30"
   ]
  },
  {
   "cell_type": "code",
   "execution_count": 22,
   "metadata": {},
   "outputs": [
    {
     "data": {
      "text/plain": [
       "False"
      ]
     },
     "execution_count": 22,
     "metadata": {},
     "output_type": "execute_result"
    }
   ],
   "source": [
    "not True"
   ]
  },
  {
   "cell_type": "code",
   "execution_count": 23,
   "metadata": {},
   "outputs": [
    {
     "data": {
      "text/plain": [
       "True"
      ]
     },
     "execution_count": 23,
     "metadata": {},
     "output_type": "execute_result"
    }
   ],
   "source": [
    "not False"
   ]
  },
  {
   "cell_type": "code",
   "execution_count": 24,
   "metadata": {},
   "outputs": [],
   "source": [
    "# 布尔\"非\" - 如果 x 为 True，返回 False 。如果 x 为 False，它返回 True。"
   ]
  },
  {
   "cell_type": "code",
   "execution_count": 26,
   "metadata": {},
   "outputs": [
    {
     "name": "stdout",
     "output_type": "stream",
     "text": [
      "本次考试，等级为C\n"
     ]
    }
   ],
   "source": [
    "score = 77\n",
    "if score>=90 and score<=100:\n",
    "        print('本次考试，等级为A')\n",
    "elif score>=80 and score<90:\n",
    "        print('本次考试，等级为B')\n",
    "elif score>=70 and score<80:\n",
    "        print('本次考试，等级为C')\n",
    "elif score>=60 and score<70:\n",
    "        print('本次考试，等级为D')\n",
    "elif score>=0 and score<60:\n",
    "        print('本次考试，等级为E')"
   ]
  },
  {
   "cell_type": "code",
   "execution_count": 28,
   "metadata": {},
   "outputs": [
    {
     "name": "stdout",
     "output_type": "stream",
     "text": [
      "hahaha0\n",
      "hahaha1\n",
      "hahaha2\n",
      "hahaha3\n",
      "hahaha4\n",
      "hahaha5\n",
      "hahaha6\n",
      "hahaha7\n",
      "hahaha8\n",
      "hahaha9\n"
     ]
    }
   ],
   "source": [
    "i = 0\n",
    "while (i <10):\n",
    "    print(\"hahaha\"+str(i))\n",
    "    i+= 1"
   ]
  },
  {
   "cell_type": "code",
   "execution_count": 29,
   "metadata": {},
   "outputs": [],
   "source": [
    "# 计算1~100之间偶数的累积和（包含1和100）"
   ]
  },
  {
   "cell_type": "code",
   "execution_count": 32,
   "metadata": {},
   "outputs": [
    {
     "name": "stdout",
     "output_type": "stream",
     "text": [
      "2450\n"
     ]
    }
   ],
   "source": [
    "i = 0\n",
    "sum = 0\n",
    "while(i<100):\n",
    "    if(i % 2 ==0):\n",
    "        sum+=i\n",
    "    i+=1\n",
    "print(sum)"
   ]
  },
  {
   "cell_type": "code",
   "execution_count": 33,
   "metadata": {},
   "outputs": [
    {
     "name": "stdout",
     "output_type": "stream",
     "text": [
      "1*1=1   \n",
      "\n",
      "1*2=2   2*2=4   \n",
      "\n",
      "1*3=3   2*3=6   3*3=9   \n",
      "\n",
      "1*4=4   2*4=8   3*4=12  4*4=16  \n",
      "\n",
      "1*5=5   2*5=10  3*5=15  4*5=20  5*5=25  \n",
      "\n",
      "1*6=6   2*6=12  3*6=18  4*6=24  5*6=30  6*6=36  \n",
      "\n",
      "1*7=7   2*7=14  3*7=21  4*7=28  5*7=35  6*7=42  7*7=49  \n",
      "\n",
      "1*8=8   2*8=16  3*8=24  4*8=32  5*8=40  6*8=48  7*8=56  8*8=64  \n",
      "\n",
      "1*9=9   2*9=18  3*9=27  4*9=36  5*9=45  6*9=54  7*9=63  8*9=72  9*9=81  \n",
      "\n"
     ]
    }
   ],
   "source": [
    "#九九乘法表\n",
    "i= 1\n",
    "while i<=9:\n",
    "    j=1\n",
    "    while j<=i:\n",
    "        print(\"%d*%d=%-2d \"%(j,i,j*i),end =' ')\n",
    "        j+=1\n",
    "    print('\\n')\n",
    "    i+=1"
   ]
  },
  {
   "cell_type": "code",
   "execution_count": 34,
   "metadata": {},
   "outputs": [],
   "source": [
    "# for 循环"
   ]
  },
  {
   "cell_type": "code",
   "execution_count": 35,
   "metadata": {},
   "outputs": [],
   "source": [
    "# for 临时变量 in 列表或者字符串等:\n",
    "#         循环满足条件时执行的代码\n",
    "#     else:\n",
    "#         循环不满足条件时执行的代码"
   ]
  },
  {
   "cell_type": "code",
   "execution_count": 36,
   "metadata": {},
   "outputs": [
    {
     "name": "stdout",
     "output_type": "stream",
     "text": [
      "z\n",
      "h\n",
      "a\n",
      "n\n",
      "g\n",
      "j\n",
      "i\n",
      "a\n",
      "n\n",
      "f\n",
      "e\n",
      "n\n",
      "g\n"
     ]
    }
   ],
   "source": [
    "name = \"zhangjianfeng\"\n",
    "for x in name:\n",
    "    print(x)"
   ]
  },
  {
   "cell_type": "code",
   "execution_count": 37,
   "metadata": {},
   "outputs": [
    {
     "name": "stdout",
     "output_type": "stream",
     "text": [
      "is null\n"
     ]
    }
   ],
   "source": [
    "name = ''\n",
    "for x in name:\n",
    "    print(x)\n",
    "else:\n",
    "    print(\"is null\")"
   ]
  },
  {
   "cell_type": "code",
   "execution_count": 38,
   "metadata": {},
   "outputs": [
    {
     "name": "stdout",
     "output_type": "stream",
     "text": [
      "z\n",
      "h\n",
      "a\n",
      "n\n",
      "g\n",
      "j\n",
      "i\n",
      "a\n",
      "n\n",
      "f\n"
     ]
    }
   ],
   "source": [
    "name = \"zhangjianfeng\"\n",
    "for x in name:\n",
    "    print(x)\n",
    "    if x == 'f':\n",
    "        break"
   ]
  },
  {
   "cell_type": "code",
   "execution_count": 39,
   "metadata": {},
   "outputs": [
    {
     "name": "stdout",
     "output_type": "stream",
     "text": [
      "z\n",
      "h\n",
      "a\n",
      "n\n",
      "g\n",
      "i\n",
      "a\n",
      "n\n",
      "f\n",
      "e\n",
      "n\n",
      "g\n"
     ]
    }
   ],
   "source": [
    "for x in name:\n",
    "    if x == 'j':\n",
    "        continue\n",
    "    print(x)"
   ]
  },
  {
   "cell_type": "code",
   "execution_count": null,
   "metadata": {},
   "outputs": [],
   "source": []
  }
 ],
 "metadata": {
  "kernelspec": {
   "display_name": "Python 3",
   "language": "python",
   "name": "python3"
  },
  "language_info": {
   "codemirror_mode": {
    "name": "ipython",
    "version": 3
   },
   "file_extension": ".py",
   "mimetype": "text/x-python",
   "name": "python",
   "nbconvert_exporter": "python",
   "pygments_lexer": "ipython3",
   "version": "3.6.5"
  }
 },
 "nbformat": 4,
 "nbformat_minor": 2
}
