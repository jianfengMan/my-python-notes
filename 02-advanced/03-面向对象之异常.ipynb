{
 "cells": [
  {
   "cell_type": "code",
   "execution_count": 2,
   "metadata": {},
   "outputs": [
    {
     "ename": "FileNotFoundError",
     "evalue": "[Errno 2] No such file or directory: '22.txt'",
     "output_type": "error",
     "traceback": [
      "\u001b[0;31m---------------------------------------------------------------------------\u001b[0m",
      "\u001b[0;31mFileNotFoundError\u001b[0m                         Traceback (most recent call last)",
      "\u001b[0;32m<ipython-input-2-c6b41f21116c>\u001b[0m in \u001b[0;36m<module>\u001b[0;34m()\u001b[0m\n\u001b[0;32m----> 1\u001b[0;31m \u001b[0mopen\u001b[0m\u001b[0;34m(\u001b[0m\u001b[0;34m'22.txt'\u001b[0m\u001b[0;34m,\u001b[0m\u001b[0;34m'r'\u001b[0m\u001b[0;34m)\u001b[0m\u001b[0;34m\u001b[0m\u001b[0m\n\u001b[0m",
      "\u001b[0;31mFileNotFoundError\u001b[0m: [Errno 2] No such file or directory: '22.txt'"
     ]
    }
   ],
   "source": [
    "open('22.txt','r')"
   ]
  },
  {
   "cell_type": "code",
   "execution_count": 3,
   "metadata": {},
   "outputs": [
    {
     "name": "stdout",
     "output_type": "stream",
     "text": [
      "抓住异常了\n"
     ]
    }
   ],
   "source": [
    "try:\n",
    "    open('22.txt','r')\n",
    "except IOError:\n",
    "    print(\"抓住异常了\")"
   ]
  },
  {
   "cell_type": "code",
   "execution_count": 5,
   "metadata": {},
   "outputs": [
    {
     "name": "stdout",
     "output_type": "stream",
     "text": [
      "-----test--1---\n"
     ]
    }
   ],
   "source": [
    "try:\n",
    "    print('-----test--1---')\n",
    "    open('123.txt','r') # 如果123.txt文件不存在，那么会产生 IOError 异常\n",
    "    print('-----test--2---')\n",
    "    print(num)# 如果num变量没有定义，那么会产生 NameError 异常\n",
    "\n",
    "except (IOError,NameError): \n",
    "    #如果想通过一次except捕获到多个异常可以用一个元组的方式\n",
    "    pass"
   ]
  },
  {
   "cell_type": "code",
   "execution_count": 6,
   "metadata": {},
   "outputs": [
    {
     "name": "stdout",
     "output_type": "stream",
     "text": [
      "-----test--1---\n",
      "[Errno 2] No such file or directory: '123.txt'\n"
     ]
    }
   ],
   "source": [
    "try:\n",
    "    print('-----test--1---')\n",
    "    open('123.txt','r') # 如果123.txt文件不存在，那么会产生 IOError 异常\n",
    "    print('-----test--2---')\n",
    "    print(num)# 如果num变量没有定义，那么会产生 NameError 异常\n",
    "\n",
    "except (IOError,NameError) as result: \n",
    "    #如果想通过一次except捕获到多个异常可以用一个元组的方式\n",
    "    print(result)"
   ]
  },
  {
   "cell_type": "code",
   "execution_count": 7,
   "metadata": {},
   "outputs": [
    {
     "name": "stdout",
     "output_type": "stream",
     "text": [
      "100\n",
      "没有捕获到异常，真高兴\n"
     ]
    }
   ],
   "source": [
    "try:\n",
    "    num = 100\n",
    "    print (num)\n",
    "except NameError as errorMsg:\n",
    "    print('产生错误了:%s'%errorMsg)\n",
    "else:\n",
    "    print('没有捕获到异常，真高兴')"
   ]
  },
  {
   "cell_type": "code",
   "execution_count": 8,
   "metadata": {},
   "outputs": [
    {
     "name": "stdout",
     "output_type": "stream",
     "text": [
      "没有这个文件\n"
     ]
    }
   ],
   "source": [
    "import time\n",
    "try:\n",
    "    f = open('test.txt')\n",
    "    try:\n",
    "        while True:\n",
    "            content = f.readline()\n",
    "            if len(content) == 0:\n",
    "                break\n",
    "            time.sleep(2)\n",
    "            print(content)\n",
    "    except:\n",
    "        #如果在读取文件的过程中，产生了异常，那么就会捕获到\n",
    "        #比如 按下了 ctrl+c\n",
    "        pass\n",
    "    finally:\n",
    "        f.close()\n",
    "        print('关闭文件')\n",
    "except:\n",
    "    print(\"没有这个文件\")"
   ]
  },
  {
   "cell_type": "code",
   "execution_count": 9,
   "metadata": {},
   "outputs": [],
   "source": [
    "class ShortInputException(Exception):\n",
    "    '''自定义的异常类'''\n",
    "    def __init__(self, length, atleast):\n",
    "        #super().__init__()\n",
    "        self.length = length\n",
    "        self.atleast = atleast"
   ]
  },
  {
   "cell_type": "code",
   "execution_count": 11,
   "metadata": {},
   "outputs": [
    {
     "name": "stdout",
     "output_type": "stream",
     "text": [
      "捕获开启，已经捕获到了异常，信息如下:\n",
      "division by zero\n",
      "----------------------华丽的分割线----------------\n"
     ]
    },
    {
     "ename": "ZeroDivisionError",
     "evalue": "division by zero",
     "output_type": "error",
     "traceback": [
      "\u001b[0;31m---------------------------------------------------------------------------\u001b[0m",
      "\u001b[0;31mZeroDivisionError\u001b[0m                         Traceback (most recent call last)",
      "\u001b[0;32m<ipython-input-11-6ed9f062ae00>\u001b[0m in \u001b[0;36m<module>\u001b[0;34m()\u001b[0m\n\u001b[1;32m     20\u001b[0m \u001b[0;34m\u001b[0m\u001b[0m\n\u001b[1;32m     21\u001b[0m \u001b[0ma\u001b[0m\u001b[0;34m.\u001b[0m\u001b[0mswitch\u001b[0m \u001b[0;34m=\u001b[0m \u001b[0;32mFalse\u001b[0m\u001b[0;34m\u001b[0m\u001b[0m\n\u001b[0;32m---> 22\u001b[0;31m \u001b[0ma\u001b[0m\u001b[0;34m.\u001b[0m\u001b[0mcalc\u001b[0m\u001b[0;34m(\u001b[0m\u001b[0;36m11\u001b[0m\u001b[0;34m,\u001b[0m\u001b[0;36m0\u001b[0m\u001b[0;34m)\u001b[0m\u001b[0;34m\u001b[0m\u001b[0m\n\u001b[0m",
      "\u001b[0;32m<ipython-input-11-6ed9f062ae00>\u001b[0m in \u001b[0;36mcalc\u001b[0;34m(self, a, b)\u001b[0m\n\u001b[1;32m      4\u001b[0m     \u001b[0;32mdef\u001b[0m \u001b[0mcalc\u001b[0m\u001b[0;34m(\u001b[0m\u001b[0mself\u001b[0m\u001b[0;34m,\u001b[0m \u001b[0ma\u001b[0m\u001b[0;34m,\u001b[0m \u001b[0mb\u001b[0m\u001b[0;34m)\u001b[0m\u001b[0;34m:\u001b[0m\u001b[0;34m\u001b[0m\u001b[0m\n\u001b[1;32m      5\u001b[0m         \u001b[0;32mtry\u001b[0m\u001b[0;34m:\u001b[0m\u001b[0;34m\u001b[0m\u001b[0m\n\u001b[0;32m----> 6\u001b[0;31m             \u001b[0;32mreturn\u001b[0m \u001b[0ma\u001b[0m\u001b[0;34m/\u001b[0m\u001b[0mb\u001b[0m\u001b[0;34m\u001b[0m\u001b[0m\n\u001b[0m\u001b[1;32m      7\u001b[0m         \u001b[0;32mexcept\u001b[0m \u001b[0mException\u001b[0m \u001b[0;32mas\u001b[0m \u001b[0mresult\u001b[0m\u001b[0;34m:\u001b[0m\u001b[0;34m\u001b[0m\u001b[0m\n\u001b[1;32m      8\u001b[0m             \u001b[0;32mif\u001b[0m \u001b[0mself\u001b[0m\u001b[0;34m.\u001b[0m\u001b[0mswitch\u001b[0m\u001b[0;34m:\u001b[0m\u001b[0;34m\u001b[0m\u001b[0m\n",
      "\u001b[0;31mZeroDivisionError\u001b[0m: division by zero"
     ]
    }
   ],
   "source": [
    "class Test(object):\n",
    "    def __init__(self, switch):\n",
    "        self.switch = switch #开关\n",
    "    def calc(self, a, b):\n",
    "        try:\n",
    "            return a/b\n",
    "        except Exception as result:\n",
    "            if self.switch:\n",
    "                print(\"捕获开启，已经捕获到了异常，信息如下:\")\n",
    "                print(result)\n",
    "            else:\n",
    "                #重新抛出这个异常，此时就不会被这个异常处理给捕获到，从而触发默认的异常处理\n",
    "                raise\n",
    "\n",
    "\n",
    "a = Test(True)\n",
    "a.calc(11,0)\n",
    "\n",
    "print(\"----------------------华丽的分割线----------------\")\n",
    "\n",
    "a.switch = False\n",
    "a.calc(11,0)"
   ]
  },
  {
   "cell_type": "code",
   "execution_count": null,
   "metadata": {},
   "outputs": [],
   "source": []
  }
 ],
 "metadata": {
  "kernelspec": {
   "display_name": "Python 3",
   "language": "python",
   "name": "python3"
  },
  "language_info": {
   "codemirror_mode": {
    "name": "ipython",
    "version": 3
   },
   "file_extension": ".py",
   "mimetype": "text/x-python",
   "name": "python",
   "nbconvert_exporter": "python",
   "pygments_lexer": "ipython3",
   "version": "3.6.5"
  }
 },
 "nbformat": 4,
 "nbformat_minor": 2
}
