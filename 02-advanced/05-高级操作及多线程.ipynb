{
 "cells": [
  {
   "cell_type": "code",
   "execution_count": 1,
   "metadata": {},
   "outputs": [
    {
     "name": "stdout",
     "output_type": "stream",
     "text": [
      "eat food\n",
      "老王在移动, 速度是 180 km/h\n",
      "0\n",
      "100\n",
      "---static method----\n"
     ]
    }
   ],
   "source": [
    "import types\n",
    "\n",
    "#定义了一个类\n",
    "class Person(object):\n",
    "    num = 0\n",
    "    def __init__(self, name = None, age = None):\n",
    "        self.name = name\n",
    "        self.age = age\n",
    "    def eat(self):\n",
    "        print(\"eat food\")\n",
    "\n",
    "#定义一个实例方法\n",
    "def run(self, speed):\n",
    "    print(\"%s在移动, 速度是 %d km/h\"%(self.name, speed))\n",
    "\n",
    "#定义一个类方法\n",
    "@classmethod\n",
    "def testClass(cls):\n",
    "    cls.num = 100\n",
    "\n",
    "#定义一个静态方法\n",
    "@staticmethod\n",
    "def testStatic():\n",
    "    print(\"---static method----\")\n",
    "\n",
    "#创建一个实例对象\n",
    "P = Person(\"老王\", 24)\n",
    "#调用在class中的方法\n",
    "P.eat()\n",
    "\n",
    "#给这个对象添加实例方法\n",
    "P.run = types.MethodType(run, P)\n",
    "#调用实例方法\n",
    "P.run(180)\n",
    "\n",
    "#给Person类绑定类方法\n",
    "Person.testClass = testClass\n",
    "#调用类方法\n",
    "print(Person.num)\n",
    "Person.testClass()\n",
    "print(Person.num)\n",
    "\n",
    "#给Person类绑定静态方法\n",
    "Person.testStatic = testStatic\n",
    "#调用静态方法\n",
    "Person.testStatic()"
   ]
  },
  {
   "cell_type": "markdown",
   "metadata": {},
   "source": [
    "如果我们想要限制实例的属性怎么办？比如，只允许对Person实例添加name和age属性。\n",
    "\n",
    "为了达到限制的目的，Python允许在定义class的时候，定义一个特殊的__slots__变量，来限制该class实例能添加的属性："
   ]
  },
  {
   "cell_type": "code",
   "execution_count": 2,
   "metadata": {},
   "outputs": [],
   "source": [
    " class Person(object):\n",
    "    __slots__ = (\"name\", \"age\")"
   ]
  },
  {
   "cell_type": "code",
   "execution_count": 3,
   "metadata": {},
   "outputs": [],
   "source": [
    "p = Person()"
   ]
  },
  {
   "cell_type": "code",
   "execution_count": 4,
   "metadata": {},
   "outputs": [],
   "source": [
    "p.name = \"lao\""
   ]
  },
  {
   "cell_type": "code",
   "execution_count": 5,
   "metadata": {},
   "outputs": [
    {
     "ename": "AttributeError",
     "evalue": "'Person' object has no attribute 'score'",
     "output_type": "error",
     "traceback": [
      "\u001b[0;31m---------------------------------------------------------------------------\u001b[0m",
      "\u001b[0;31mAttributeError\u001b[0m                            Traceback (most recent call last)",
      "\u001b[0;32m<ipython-input-5-24d44841fc88>\u001b[0m in \u001b[0;36m<module>\u001b[0;34m()\u001b[0m\n\u001b[0;32m----> 1\u001b[0;31m \u001b[0mp\u001b[0m\u001b[0;34m.\u001b[0m\u001b[0mscore\u001b[0m\u001b[0;34m=\u001b[0m \u001b[0;36m10\u001b[0m\u001b[0;34m\u001b[0m\u001b[0m\n\u001b[0m",
      "\u001b[0;31mAttributeError\u001b[0m: 'Person' object has no attribute 'score'"
     ]
    }
   ],
   "source": [
    "p.score= 10"
   ]
  },
  {
   "cell_type": "code",
   "execution_count": 6,
   "metadata": {},
   "outputs": [],
   "source": [
    "# 使用__slots__要注意，__slots__定义的属性仅对当前类实例起作用，对继承的子类是不起作用的"
   ]
  },
  {
   "cell_type": "code",
   "execution_count": 7,
   "metadata": {},
   "outputs": [],
   "source": [
    "# 在Python中，这种一边循环一边计算的机制，称为生成器：generator。"
   ]
  },
  {
   "cell_type": "code",
   "execution_count": 8,
   "metadata": {},
   "outputs": [],
   "source": [
    "L = [ x*2 for x in range(5)]"
   ]
  },
  {
   "cell_type": "code",
   "execution_count": 9,
   "metadata": {},
   "outputs": [
    {
     "data": {
      "text/plain": [
       "[0, 2, 4, 6, 8]"
      ]
     },
     "execution_count": 9,
     "metadata": {},
     "output_type": "execute_result"
    }
   ],
   "source": [
    "L"
   ]
  },
  {
   "cell_type": "code",
   "execution_count": 10,
   "metadata": {},
   "outputs": [],
   "source": [
    "G = (x*2 for x in range(5))"
   ]
  },
  {
   "cell_type": "code",
   "execution_count": 11,
   "metadata": {},
   "outputs": [
    {
     "data": {
      "text/plain": [
       "<generator object <genexpr> at 0x107ab1f68>"
      ]
     },
     "execution_count": 11,
     "metadata": {},
     "output_type": "execute_result"
    }
   ],
   "source": [
    "G"
   ]
  },
  {
   "cell_type": "code",
   "execution_count": 12,
   "metadata": {},
   "outputs": [
    {
     "data": {
      "text/plain": [
       "0"
      ]
     },
     "execution_count": 12,
     "metadata": {},
     "output_type": "execute_result"
    }
   ],
   "source": [
    "next(G)"
   ]
  },
  {
   "cell_type": "code",
   "execution_count": 13,
   "metadata": {},
   "outputs": [
    {
     "data": {
      "text/plain": [
       "2"
      ]
     },
     "execution_count": 13,
     "metadata": {},
     "output_type": "execute_result"
    }
   ],
   "source": [
    "next(G)"
   ]
  },
  {
   "cell_type": "code",
   "execution_count": 14,
   "metadata": {},
   "outputs": [],
   "source": [
    "# 创建 L 和 G 的区别仅在于最外层的 [ ] 和 ( ) ， L 是一个列表，而 G 是一个生成器"
   ]
  },
  {
   "cell_type": "code",
   "execution_count": 15,
   "metadata": {},
   "outputs": [],
   "source": [
    "from collections  import Iterator"
   ]
  },
  {
   "cell_type": "code",
   "execution_count": 17,
   "metadata": {},
   "outputs": [
    {
     "data": {
      "text/plain": [
       "True"
      ]
     },
     "execution_count": 17,
     "metadata": {},
     "output_type": "execute_result"
    }
   ],
   "source": [
    "isinstance((x for x in range(10)),Iterator)"
   ]
  },
  {
   "cell_type": "code",
   "execution_count": 18,
   "metadata": {},
   "outputs": [
    {
     "data": {
      "text/plain": [
       "False"
      ]
     },
     "execution_count": 18,
     "metadata": {},
     "output_type": "execute_result"
    }
   ],
   "source": [
    "isinstance({},Iterator)"
   ]
  },
  {
   "cell_type": "code",
   "execution_count": 19,
   "metadata": {},
   "outputs": [
    {
     "data": {
      "text/plain": [
       "True"
      ]
     },
     "execution_count": 19,
     "metadata": {},
     "output_type": "execute_result"
    }
   ],
   "source": [
    "isinstance(iter([]),Iterator)"
   ]
  },
  {
   "cell_type": "code",
   "execution_count": 20,
   "metadata": {},
   "outputs": [
    {
     "data": {
      "text/plain": [
       "True"
      ]
     },
     "execution_count": 20,
     "metadata": {},
     "output_type": "execute_result"
    }
   ],
   "source": [
    "isinstance(iter('abc'),Iterator)"
   ]
  },
  {
   "cell_type": "code",
   "execution_count": 21,
   "metadata": {},
   "outputs": [
    {
     "name": "stdout",
     "output_type": "stream",
     "text": [
      "in test_in 函数, number_in is 100\n",
      "120\n",
      "in test_in 函数, number_in is 200\n",
      "220\n"
     ]
    }
   ],
   "source": [
    "#定义一个函数\n",
    "def test(number):\n",
    "\n",
    "    #在函数内部再定义一个函数，并且这个函数用到了外边函数的变量，那么将这个函数以及用到的一些变量称之为闭包\n",
    "    def test_in(number_in):\n",
    "        print(\"in test_in 函数, number_in is %d\"%number_in)\n",
    "        return number+number_in\n",
    "    #其实这里返回的就是闭包的结果\n",
    "    return test_in\n",
    "\n",
    "\n",
    "#给test函数赋值，这个20就是给参数number\n",
    "ret = test(20)\n",
    "\n",
    "#注意这里的100其实给参数number_in\n",
    "print(ret(100))\n",
    "\n",
    "#注意这里的200其实给参数number_in\n",
    "print(ret(200))"
   ]
  },
  {
   "cell_type": "code",
   "execution_count": 22,
   "metadata": {},
   "outputs": [
    {
     "name": "stdout",
     "output_type": "stream",
     "text": [
      "6\n",
      "25\n"
     ]
    }
   ],
   "source": [
    "def line_conf(a, b):\n",
    "    def line(x):\n",
    "        return a*x + b\n",
    "    return line\n",
    "\n",
    "line1 = line_conf(1, 1)\n",
    "line2 = line_conf(4, 5)\n",
    "print(line1(5))\n",
    "print(line2(5))"
   ]
  },
  {
   "cell_type": "code",
   "execution_count": 23,
   "metadata": {},
   "outputs": [],
   "source": [
    "a = 1\n",
    "def fun():\n",
    "  # 需要通过 global 指令来声明全局变量\n",
    "  global a\n",
    "  # 修改全局变量，而不是创建一个新的 local 变量\n",
    "  a = 2"
   ]
  },
  {
   "cell_type": "code",
   "execution_count": 24,
   "metadata": {},
   "outputs": [
    {
     "data": {
      "text/plain": [
       "1"
      ]
     },
     "execution_count": 24,
     "metadata": {},
     "output_type": "execute_result"
    }
   ],
   "source": [
    "a"
   ]
  },
  {
   "cell_type": "code",
   "execution_count": 25,
   "metadata": {},
   "outputs": [
    {
     "data": {
      "text/plain": [
       "['ArithmeticError',\n",
       " 'AssertionError',\n",
       " 'AttributeError',\n",
       " 'BaseException',\n",
       " 'BlockingIOError',\n",
       " 'BrokenPipeError',\n",
       " 'BufferError',\n",
       " 'BytesWarning',\n",
       " 'ChildProcessError',\n",
       " 'ConnectionAbortedError',\n",
       " 'ConnectionError',\n",
       " 'ConnectionRefusedError',\n",
       " 'ConnectionResetError',\n",
       " 'DeprecationWarning',\n",
       " 'EOFError',\n",
       " 'Ellipsis',\n",
       " 'EnvironmentError',\n",
       " 'Exception',\n",
       " 'False',\n",
       " 'FileExistsError',\n",
       " 'FileNotFoundError',\n",
       " 'FloatingPointError',\n",
       " 'FutureWarning',\n",
       " 'GeneratorExit',\n",
       " 'IOError',\n",
       " 'ImportError',\n",
       " 'ImportWarning',\n",
       " 'IndentationError',\n",
       " 'IndexError',\n",
       " 'InterruptedError',\n",
       " 'IsADirectoryError',\n",
       " 'KeyError',\n",
       " 'KeyboardInterrupt',\n",
       " 'LookupError',\n",
       " 'MemoryError',\n",
       " 'ModuleNotFoundError',\n",
       " 'NameError',\n",
       " 'None',\n",
       " 'NotADirectoryError',\n",
       " 'NotImplemented',\n",
       " 'NotImplementedError',\n",
       " 'OSError',\n",
       " 'OverflowError',\n",
       " 'PendingDeprecationWarning',\n",
       " 'PermissionError',\n",
       " 'ProcessLookupError',\n",
       " 'RecursionError',\n",
       " 'ReferenceError',\n",
       " 'ResourceWarning',\n",
       " 'RuntimeError',\n",
       " 'RuntimeWarning',\n",
       " 'StopAsyncIteration',\n",
       " 'StopIteration',\n",
       " 'SyntaxError',\n",
       " 'SyntaxWarning',\n",
       " 'SystemError',\n",
       " 'SystemExit',\n",
       " 'TabError',\n",
       " 'TimeoutError',\n",
       " 'True',\n",
       " 'TypeError',\n",
       " 'UnboundLocalError',\n",
       " 'UnicodeDecodeError',\n",
       " 'UnicodeEncodeError',\n",
       " 'UnicodeError',\n",
       " 'UnicodeTranslateError',\n",
       " 'UnicodeWarning',\n",
       " 'UserWarning',\n",
       " 'ValueError',\n",
       " 'Warning',\n",
       " 'ZeroDivisionError',\n",
       " '__IPYTHON__',\n",
       " '__build_class__',\n",
       " '__debug__',\n",
       " '__doc__',\n",
       " '__import__',\n",
       " '__loader__',\n",
       " '__name__',\n",
       " '__package__',\n",
       " '__spec__',\n",
       " 'abs',\n",
       " 'all',\n",
       " 'any',\n",
       " 'ascii',\n",
       " 'bin',\n",
       " 'bool',\n",
       " 'bytearray',\n",
       " 'bytes',\n",
       " 'callable',\n",
       " 'chr',\n",
       " 'classmethod',\n",
       " 'compile',\n",
       " 'complex',\n",
       " 'copyright',\n",
       " 'credits',\n",
       " 'delattr',\n",
       " 'dict',\n",
       " 'dir',\n",
       " 'display',\n",
       " 'divmod',\n",
       " 'enumerate',\n",
       " 'eval',\n",
       " 'exec',\n",
       " 'filter',\n",
       " 'float',\n",
       " 'format',\n",
       " 'frozenset',\n",
       " 'get_ipython',\n",
       " 'getattr',\n",
       " 'globals',\n",
       " 'hasattr',\n",
       " 'hash',\n",
       " 'help',\n",
       " 'hex',\n",
       " 'id',\n",
       " 'input',\n",
       " 'int',\n",
       " 'isinstance',\n",
       " 'issubclass',\n",
       " 'iter',\n",
       " 'len',\n",
       " 'license',\n",
       " 'list',\n",
       " 'locals',\n",
       " 'map',\n",
       " 'max',\n",
       " 'memoryview',\n",
       " 'min',\n",
       " 'next',\n",
       " 'object',\n",
       " 'oct',\n",
       " 'open',\n",
       " 'ord',\n",
       " 'pow',\n",
       " 'print',\n",
       " 'property',\n",
       " 'range',\n",
       " 'repr',\n",
       " 'reversed',\n",
       " 'round',\n",
       " 'set',\n",
       " 'setattr',\n",
       " 'slice',\n",
       " 'sorted',\n",
       " 'staticmethod',\n",
       " 'str',\n",
       " 'sum',\n",
       " 'super',\n",
       " 'tuple',\n",
       " 'type',\n",
       " 'vars',\n",
       " 'zip']"
      ]
     },
     "execution_count": 25,
     "metadata": {},
     "output_type": "execute_result"
    }
   ],
   "source": [
    "dir(__builtin__)"
   ]
  },
  {
   "cell_type": "markdown",
   "metadata": {},
   "source": [
    " Python 在启动的时候会自动为我们载入很多内建的函数、类，\n",
    "  比如 dict，list，type，print，这些都位于 __builtin__ 模块中，\n",
    "  可以使用 dir(__builtin__) 来查看。\n",
    "  这也是为什么我们在没有 import任何模块的情况下，\n",
    "  就能使用这么多丰富的函数和功能了。"
   ]
  },
  {
   "cell_type": "code",
   "execution_count": 26,
   "metadata": {},
   "outputs": [],
   "source": [
    "a = [11,22,33]"
   ]
  },
  {
   "cell_type": "code",
   "execution_count": 27,
   "metadata": {},
   "outputs": [],
   "source": [
    "b = a"
   ]
  },
  {
   "cell_type": "code",
   "execution_count": 28,
   "metadata": {},
   "outputs": [
    {
     "data": {
      "text/plain": [
       "[11, 22, 33]"
      ]
     },
     "execution_count": 28,
     "metadata": {},
     "output_type": "execute_result"
    }
   ],
   "source": [
    "b"
   ]
  },
  {
   "cell_type": "code",
   "execution_count": 29,
   "metadata": {},
   "outputs": [
    {
     "data": {
      "text/plain": [
       "[11, 22, 33]"
      ]
     },
     "execution_count": 29,
     "metadata": {},
     "output_type": "execute_result"
    }
   ],
   "source": [
    "a"
   ]
  },
  {
   "cell_type": "code",
   "execution_count": 30,
   "metadata": {},
   "outputs": [
    {
     "data": {
      "text/plain": [
       "True"
      ]
     },
     "execution_count": 30,
     "metadata": {},
     "output_type": "execute_result"
    }
   ],
   "source": [
    "a == b"
   ]
  },
  {
   "cell_type": "code",
   "execution_count": 31,
   "metadata": {},
   "outputs": [
    {
     "data": {
      "text/plain": [
       "True"
      ]
     },
     "execution_count": 31,
     "metadata": {},
     "output_type": "execute_result"
    }
   ],
   "source": [
    "a is b"
   ]
  },
  {
   "cell_type": "code",
   "execution_count": 33,
   "metadata": {},
   "outputs": [],
   "source": [
    "c = a.copy()"
   ]
  },
  {
   "cell_type": "code",
   "execution_count": 34,
   "metadata": {},
   "outputs": [
    {
     "data": {
      "text/plain": [
       "[11, 22, 33]"
      ]
     },
     "execution_count": 34,
     "metadata": {},
     "output_type": "execute_result"
    }
   ],
   "source": [
    "c"
   ]
  },
  {
   "cell_type": "code",
   "execution_count": 35,
   "metadata": {},
   "outputs": [
    {
     "data": {
      "text/plain": [
       "False"
      ]
     },
     "execution_count": 35,
     "metadata": {},
     "output_type": "execute_result"
    }
   ],
   "source": [
    "c is a"
   ]
  },
  {
   "cell_type": "code",
   "execution_count": 36,
   "metadata": {},
   "outputs": [
    {
     "data": {
      "text/plain": [
       "True"
      ]
     },
     "execution_count": 36,
     "metadata": {},
     "output_type": "execute_result"
    }
   ],
   "source": [
    "c ==  a"
   ]
  },
  {
   "cell_type": "code",
   "execution_count": 37,
   "metadata": {},
   "outputs": [],
   "source": [
    "# is 是比较两个引用是否指向了同一个对象（引用比较）。\n",
    "# == 是比较两个对象是否相等。"
   ]
  },
  {
   "cell_type": "code",
   "execution_count": 38,
   "metadata": {},
   "outputs": [
    {
     "data": {
      "text/plain": [
       "4423794376"
      ]
     },
     "execution_count": 38,
     "metadata": {},
     "output_type": "execute_result"
    }
   ],
   "source": [
    "id(a)"
   ]
  },
  {
   "cell_type": "code",
   "execution_count": 39,
   "metadata": {},
   "outputs": [
    {
     "data": {
      "text/plain": [
       "4423908808"
      ]
     },
     "execution_count": 39,
     "metadata": {},
     "output_type": "execute_result"
    }
   ],
   "source": [
    "id(c)"
   ]
  },
  {
   "cell_type": "code",
   "execution_count": 40,
   "metadata": {},
   "outputs": [
    {
     "name": "stdout",
     "output_type": "stream",
     "text": [
      "哈哈1---num=1\n",
      "哈哈2---num=1\n"
     ]
    }
   ],
   "source": [
    "#coding=utf-8\n",
    "import os\n",
    "import time\n",
    "\n",
    "num = 0\n",
    "\n",
    "# 注意，fork函数，只在Unix/Linux/Mac上运行，windows不可以\n",
    "pid = os.fork()\n",
    "\n",
    "if pid == 0:\n",
    "    num+=1\n",
    "    print('哈哈1---num=%d'%num)\n",
    "else:\n",
    "    time.sleep(1)\n",
    "    num+=1\n",
    "    print('哈哈2---num=%d'%num)"
   ]
  },
  {
   "cell_type": "code",
   "execution_count": 41,
   "metadata": {},
   "outputs": [],
   "source": [
    "# 多进程中，每个进程中所有数据（包括全局变量）都各有拥有一份，互不影响"
   ]
  },
  {
   "cell_type": "code",
   "execution_count": 42,
   "metadata": {},
   "outputs": [
    {
     "name": "stdout",
     "output_type": "stream",
     "text": [
      "我是父进程（27963），我的子进程是（28049）\n",
      "父子进程都可以执行这里的代码\n",
      "我是子进程（28049），我的父进程是（27963）\n"
     ]
    },
    {
     "ename": "NameError",
     "evalue": "name 'x' is not defined",
     "output_type": "error",
     "traceback": [
      "\u001b[0;31m---------------------------------------------------------------------------\u001b[0m",
      "\u001b[0;31mNameError\u001b[0m                                 Traceback (most recent call last)",
      "\u001b[0;32m<ipython-input-42-e25ff6b68c1d>\u001b[0m in \u001b[0;36m<module>\u001b[0;34m()\u001b[0m\n\u001b[1;32m      6\u001b[0m \u001b[0;32melif\u001b[0m \u001b[0mrpid\u001b[0m \u001b[0;34m==\u001b[0m \u001b[0;36m0\u001b[0m\u001b[0;34m:\u001b[0m\u001b[0;34m\u001b[0m\u001b[0m\n\u001b[1;32m      7\u001b[0m     \u001b[0mprint\u001b[0m\u001b[0;34m(\u001b[0m\u001b[0;34m\"我是子进程（%s），我的父进程是（%s）\"\u001b[0m\u001b[0;34m%\u001b[0m\u001b[0;34m(\u001b[0m\u001b[0mos\u001b[0m\u001b[0;34m.\u001b[0m\u001b[0mgetpid\u001b[0m\u001b[0;34m(\u001b[0m\u001b[0;34m)\u001b[0m\u001b[0;34m,\u001b[0m\u001b[0mos\u001b[0m\u001b[0;34m.\u001b[0m\u001b[0mgetppid\u001b[0m\u001b[0;34m(\u001b[0m\u001b[0;34m)\u001b[0m\u001b[0;34m)\u001b[0m\u001b[0;34m)\u001b[0m\u001b[0;34m\u001b[0m\u001b[0m\n\u001b[0;32m----> 8\u001b[0;31m     \u001b[0mx\u001b[0m\u001b[0;34m+=\u001b[0m\u001b[0;36m1\u001b[0m\u001b[0;34m\u001b[0m\u001b[0m\n\u001b[0m\u001b[1;32m      9\u001b[0m \u001b[0;32melse\u001b[0m\u001b[0;34m:\u001b[0m\u001b[0;34m\u001b[0m\u001b[0m\n\u001b[1;32m     10\u001b[0m     \u001b[0mprint\u001b[0m\u001b[0;34m(\u001b[0m\u001b[0;34m\"我是父进程（%s），我的子进程是（%s）\"\u001b[0m\u001b[0;34m%\u001b[0m\u001b[0;34m(\u001b[0m\u001b[0mos\u001b[0m\u001b[0;34m.\u001b[0m\u001b[0mgetpid\u001b[0m\u001b[0;34m(\u001b[0m\u001b[0;34m)\u001b[0m\u001b[0;34m,\u001b[0m\u001b[0mrpid\u001b[0m\u001b[0;34m)\u001b[0m\u001b[0;34m)\u001b[0m\u001b[0;34m\u001b[0m\u001b[0m\n",
      "\u001b[0;31mNameError\u001b[0m: name 'x' is not defined"
     ]
    }
   ],
   "source": []
  },
  {
   "cell_type": "code",
   "execution_count": 43,
   "metadata": {},
   "outputs": [
    {
     "name": "stdout",
     "output_type": "stream",
     "text": [
      "父进程 27963.\n",
      "子进程将要执行\n",
      "子进程运行中，name= test ,pid=28050...\n",
      "子进程已结束\n"
     ]
    }
   ],
   "source": [
    "from multiprocessing import Process\n",
    "import os\n",
    "\n",
    "# 子进程要执行的代码\n",
    "def run_proc(name):\n",
    "    print('子进程运行中，name= %s ,pid=%d...' % (name, os.getpid()))\n",
    "\n",
    "if __name__=='__main__':\n",
    "    print('父进程 %d.' % os.getpid())\n",
    "    p = Process(target=run_proc, args=('test',))\n",
    "    print('子进程将要执行')\n",
    "    p.start()\n",
    "    p.join()\n",
    "    print('子进程已结束')"
   ]
  },
  {
   "cell_type": "code",
   "execution_count": 44,
   "metadata": {},
   "outputs": [
    {
     "name": "stdout",
     "output_type": "stream",
     "text": [
      "2开始执行,进程号为28057\n",
      "1开始执行,进程号为28056\n",
      "0开始执行,进程号为28055\n",
      "----start----\n",
      "1 执行完毕，耗时0.66\n",
      "3开始执行,进程号为28056\n",
      "0 执行完毕，耗时1.12\n",
      "4开始执行,进程号为28055\n",
      "2 执行完毕，耗时1.14\n",
      "5开始执行,进程号为28057\n",
      "5 执行完毕，耗时0.77\n",
      "6开始执行,进程号为28057\n",
      "4 执行完毕，耗时0.82\n",
      "7开始执行,进程号为28055\n",
      "6 执行完毕，耗时0.08\n",
      "8开始执行,进程号为28057\n",
      "3 执行完毕，耗时1.78\n",
      "9开始执行,进程号为28056\n",
      "7 执行完毕，耗时0.89\n",
      "9 执行完毕，耗时1.04\n",
      "8 执行完毕，耗时1.93\n",
      "-----end-----\n"
     ]
    }
   ],
   "source": [
    "from multiprocessing import Pool\n",
    "import os,time,random\n",
    "\n",
    "def worker(msg):\n",
    "    t_start = time.time()\n",
    "    print(\"%s开始执行,进程号为%d\"%(msg,os.getpid()))\n",
    "    #random.random()随机生成0~1之间的浮点数\n",
    "    time.sleep(random.random()*2) \n",
    "    t_stop = time.time()\n",
    "    print(msg,\"执行完毕，耗时%0.2f\"%(t_stop-t_start))\n",
    "\n",
    "po=Pool(3) #定义一个进程池，最大进程数3\n",
    "for i in range(0,10):\n",
    "    #Pool.apply_async(要调用的目标,(传递给目标的参数元祖,))\n",
    "    #每次循环将会用空闲出来的子进程去调用目标\n",
    "    po.apply_async(worker,(i,))\n",
    "\n",
    "print(\"----start----\")\n",
    "po.close() #关闭进程池，关闭后po不再接收新的请求\n",
    "po.join() #等待po中所有子进程执行完成，必须放在close语句之后\n",
    "print(\"-----end-----\")"
   ]
  },
  {
   "cell_type": "code",
   "execution_count": 45,
   "metadata": {},
   "outputs": [
    {
     "name": "stdout",
     "output_type": "stream",
     "text": [
      "0开始执行,进程号为28071\n",
      "0 执行完毕，耗时0.49\n",
      "1开始执行,进程号为28072\n",
      "1 执行完毕，耗时1.01\n",
      "2开始执行,进程号为28073\n",
      "2 执行完毕，耗时0.99\n",
      "3开始执行,进程号为28071\n",
      "3 执行完毕，耗时0.98\n",
      "4开始执行,进程号为28072\n",
      "4 执行完毕，耗时1.52\n",
      "5开始执行,进程号为28073\n",
      "5 执行完毕，耗时1.26\n",
      "6开始执行,进程号为28071\n",
      "6 执行完毕，耗时0.45\n",
      "7开始执行,进程号为28072\n",
      "7 执行完毕，耗时0.40\n",
      "8开始执行,进程号为28073\n",
      "8 执行完毕，耗时1.53\n",
      "9开始执行,进程号为28071\n",
      "9 执行完毕，耗时1.75\n",
      "----start----\n",
      "-----end-----\n"
     ]
    }
   ],
   "source": [
    "from multiprocessing import Pool\n",
    "import os,time,random\n",
    "\n",
    "def worker(msg):\n",
    "    t_start = time.time()\n",
    "    print(\"%s开始执行,进程号为%d\"%(msg,os.getpid()))\n",
    "    #random.random()随机生成0~1之间的浮点数\n",
    "    time.sleep(random.random()*2) \n",
    "    t_stop = time.time()\n",
    "    print(msg,\"执行完毕，耗时%0.2f\"%(t_stop-t_start))\n",
    "\n",
    "po=Pool(3) #定义一个进程池，最大进程数3\n",
    "for i in range(0,10):\n",
    "    po.apply(worker,(i,))\n",
    "\n",
    "print(\"----start----\")\n",
    "po.close() #关闭进程池，关闭后po不再接收新的请求\n",
    "po.join() #等待po中所有子进程执行完成，必须放在close语句之后\n",
    "print(\"-----end-----\")"
   ]
  },
  {
   "cell_type": "code",
   "execution_count": 46,
   "metadata": {},
   "outputs": [],
   "source": [
    "#apply阻塞式"
   ]
  },
  {
   "cell_type": "code",
   "execution_count": null,
   "metadata": {},
   "outputs": [],
   "source": []
  },
  {
   "cell_type": "code",
   "execution_count": null,
   "metadata": {},
   "outputs": [],
   "source": []
  }
 ],
 "metadata": {
  "kernelspec": {
   "display_name": "Python 3",
   "language": "python",
   "name": "python3"
  },
  "language_info": {
   "codemirror_mode": {
    "name": "ipython",
    "version": 3
   },
   "file_extension": ".py",
   "mimetype": "text/x-python",
   "name": "python",
   "nbconvert_exporter": "python",
   "pygments_lexer": "ipython3",
   "version": "3.6.5"
  }
 },
 "nbformat": 4,
 "nbformat_minor": 2
}
