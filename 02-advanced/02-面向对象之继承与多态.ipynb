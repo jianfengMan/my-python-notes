{
 "cells": [
  {
   "cell_type": "code",
   "execution_count": 1,
   "metadata": {},
   "outputs": [
    {
     "name": "stdout",
     "output_type": "stream",
     "text": [
      "白色\n",
      "动物\n",
      "白色\n",
      "------分割线-----\n",
      "黄色\n",
      "小花狗\n",
      "黄色\n"
     ]
    }
   ],
   "source": [
    "class Animal(object):\n",
    "\n",
    "    def __init__(self, name='动物', color='白色'):\n",
    "        self.__name = name\n",
    "        self.color = color\n",
    "\n",
    "    def __test(self):\n",
    "        print(self.__name)\n",
    "        print(self.color)\n",
    "\n",
    "    def test(self):\n",
    "        print(self.__name)\n",
    "        print(self.color)\n",
    "\n",
    "\n",
    "\n",
    "class Dog(Animal):\n",
    "    def dogTest1(self):\n",
    "        #print(self.__name) #不能访问到父类的私有属性\n",
    "        print(self.color)\n",
    "\n",
    "\n",
    "    def dogTest2(self):\n",
    "        #self.__test() #不能访问父类中的私有方法\n",
    "        self.test()\n",
    "\n",
    "\n",
    "A = Animal()\n",
    "#print(A.__name) #程序出现异常，不能访问私有属性\n",
    "print(A.color)\n",
    "#A.__test() #程序出现异常，不能访问私有方法\n",
    "A.test()\n",
    "\n",
    "print(\"------分割线-----\")\n",
    "\n",
    "D = Dog(name = \"小花狗\", color = \"黄色\")\n",
    "D.dogTest1()\n",
    "D.dogTest2()"
   ]
  },
  {
   "cell_type": "markdown",
   "metadata": {},
   "source": [
    "私有的属性，不能通过对象直接访问，但是可以通过方法访问\n",
    "私有的方法，不能通过对象直接访问\n",
    "私有的属性、方法，不会被子类继承，也不能被访问\n",
    "一般情况下，私有的属性、方法都是不对外公布的，往往用来做内部的事情，起到安全的作用"
   ]
  },
  {
   "cell_type": "code",
   "execution_count": 2,
   "metadata": {},
   "outputs": [
    {
     "name": "stdout",
     "output_type": "stream",
     "text": [
      "----A----\n",
      "----B----\n"
     ]
    }
   ],
   "source": [
    "# 定义一个父类\n",
    "class A:\n",
    "    def printA(self):\n",
    "        print('----A----')\n",
    "\n",
    "# 定义一个父类\n",
    "class B:\n",
    "    def printB(self):\n",
    "        print('----B----')\n",
    "\n",
    "# 定义一个子类，继承自A、B\n",
    "class C(A,B):\n",
    "    def printC(self):\n",
    "        print('----C----')\n",
    "\n",
    "obj_C = C()\n",
    "obj_C.printA()\n",
    "obj_C.printB()"
   ]
  },
  {
   "cell_type": "markdown",
   "metadata": {},
   "source": [
    "python中是可以多继承的,然而java中是没有多继承的\n",
    "父类中的方法、属性，子类会继承"
   ]
  },
  {
   "cell_type": "code",
   "execution_count": 3,
   "metadata": {},
   "outputs": [
    {
     "name": "stdout",
     "output_type": "stream",
     "text": [
      "----A test----\n",
      "(<class '__main__.C'>, <class '__main__.A'>, <class '__main__.B'>, <class '__main__.base'>, <class 'object'>)\n"
     ]
    }
   ],
   "source": [
    "class base(object):\n",
    "    def test(self):\n",
    "        print('----base test----')\n",
    "class A(base):\n",
    "    def test(self):\n",
    "        print('----A test----')\n",
    "\n",
    "# 定义一个父类\n",
    "class B(base):\n",
    "    def test(self):\n",
    "        print('----B test----')\n",
    "\n",
    "# 定义一个子类，继承自A、B\n",
    "class C(A,B):\n",
    "    pass\n",
    "\n",
    "\n",
    "obj_C = C()\n",
    "obj_C.test()\n",
    "\n",
    "print(C.__mro__) #可以查看C类的对象搜索方法时的先后顺序"
   ]
  },
  {
   "cell_type": "code",
   "execution_count": 4,
   "metadata": {},
   "outputs": [
    {
     "name": "stdout",
     "output_type": "stream",
     "text": [
      "xiaohua\n",
      "yellow\n"
     ]
    }
   ],
   "source": [
    "class Cat(object):\n",
    "    def __init__(self,name):\n",
    "        self.name = name\n",
    "        self.color = 'yellow'\n",
    "\n",
    "\n",
    "class Bosi(Cat):\n",
    "\n",
    "    def __init__(self,name):\n",
    "        # 调用父类的__init__方法1(python2)\n",
    "        #Cat.__init__(self,name)\n",
    "        # 调用父类的__init__方法2\n",
    "        #super(Bosi,self).__init__(name)\n",
    "        # 调用父类的__init__方法3\n",
    "        super().__init__(name)\n",
    "\n",
    "    def getName(self):\n",
    "        return self.name\n",
    "\n",
    "bosi = Bosi('xiaohua')\n",
    "\n",
    "print(bosi.name)\n",
    "print(bosi.color)"
   ]
  },
  {
   "cell_type": "code",
   "execution_count": 8,
   "metadata": {},
   "outputs": [
    {
     "name": "stdout",
     "output_type": "stream",
     "text": [
      "Tom\n",
      "Tom\n"
     ]
    },
    {
     "ename": "AttributeError",
     "evalue": "'People' object has no attribute '__age'",
     "output_type": "error",
     "traceback": [
      "\u001b[0;31m---------------------------------------------------------------------------\u001b[0m",
      "\u001b[0;31mAttributeError\u001b[0m                            Traceback (most recent call last)",
      "\u001b[0;32m<ipython-input-8-e896a72c1a81>\u001b[0m in \u001b[0;36m<module>\u001b[0;34m()\u001b[0m\n\u001b[1;32m      7\u001b[0m \u001b[0mprint\u001b[0m\u001b[0;34m(\u001b[0m\u001b[0mp\u001b[0m\u001b[0;34m.\u001b[0m\u001b[0mname\u001b[0m\u001b[0;34m)\u001b[0m           \u001b[0;31m#正确\u001b[0m\u001b[0;34m\u001b[0m\u001b[0m\n\u001b[1;32m      8\u001b[0m \u001b[0mprint\u001b[0m\u001b[0;34m(\u001b[0m\u001b[0mPeople\u001b[0m\u001b[0;34m.\u001b[0m\u001b[0mname\u001b[0m\u001b[0;34m)\u001b[0m      \u001b[0;31m#正确\u001b[0m\u001b[0;34m\u001b[0m\u001b[0m\n\u001b[0;32m----> 9\u001b[0;31m \u001b[0mprint\u001b[0m\u001b[0;34m(\u001b[0m\u001b[0mp\u001b[0m\u001b[0;34m.\u001b[0m\u001b[0m__age\u001b[0m\u001b[0;34m)\u001b[0m            \u001b[0;31m#错误，不能在类外通过实例对象访问私有的类属性\u001b[0m\u001b[0;34m\u001b[0m\u001b[0m\n\u001b[0m\u001b[1;32m     10\u001b[0m \u001b[0mprint\u001b[0m\u001b[0;34m(\u001b[0m\u001b[0mPeople\u001b[0m\u001b[0;34m.\u001b[0m\u001b[0m__age\u001b[0m\u001b[0;34m)\u001b[0m        \u001b[0;31m#错误，不能在类外通过类对象访问私有的类属性\u001b[0m\u001b[0;34m\u001b[0m\u001b[0m\n",
      "\u001b[0;31mAttributeError\u001b[0m: 'People' object has no attribute '__age'"
     ]
    }
   ],
   "source": [
    "class People(object):\n",
    "    name = 'Tom'  #公有的类属性\n",
    "    __age = 12     #私有的类属性\n",
    "\n",
    "p = People()\n",
    "\n",
    "print(p.name)           #正确\n",
    "print(People.name)      #正确\n",
    "print(p.__age)            #错误，不能在类外通过实例对象访问私有的类属性\n",
    "print(People.__age)        #错误，不能在类外通过类对象访问私有的类属性"
   ]
  },
  {
   "cell_type": "code",
   "execution_count": 9,
   "metadata": {},
   "outputs": [
    {
     "name": "stdout",
     "output_type": "stream",
     "text": [
      "china\n",
      "china\n",
      "japan\n",
      "china\n",
      "china\n"
     ]
    }
   ],
   "source": [
    "class People(object):\n",
    "    country = 'china' #类属性\n",
    "\n",
    "\n",
    "print(People.country)\n",
    "p = People()\n",
    "print(p.country)\n",
    "p.country = 'japan' \n",
    "print(p.country)      #实例属性会屏蔽掉同名的类属性\n",
    "print(People.country)\n",
    "del p.country    #删除实例属性\n",
    "print(p.country)"
   ]
  },
  {
   "cell_type": "code",
   "execution_count": 10,
   "metadata": {},
   "outputs": [],
   "source": [
    "People.country = '222'"
   ]
  },
  {
   "cell_type": "code",
   "execution_count": 11,
   "metadata": {},
   "outputs": [
    {
     "data": {
      "text/plain": [
       "'222'"
      ]
     },
     "execution_count": 11,
     "metadata": {},
     "output_type": "execute_result"
    }
   ],
   "source": [
    "People.country"
   ]
  },
  {
   "cell_type": "code",
   "execution_count": 12,
   "metadata": {},
   "outputs": [
    {
     "data": {
      "text/plain": [
       "'222'"
      ]
     },
     "execution_count": 12,
     "metadata": {},
     "output_type": "execute_result"
    }
   ],
   "source": [
    "p = People()\n",
    "p.country"
   ]
  },
  {
   "cell_type": "markdown",
   "metadata": {},
   "source": [
    "如果需要在类外修改类属性，必须通过类对象去引用然后进行修改。如果通过实例对象去引用，会产生一个同名的实例属性，这种方式修改的是实例属性，不会影响到类属性，并且之后如果通过实例对象去引用该名称的属性，实例属性会强制屏蔽掉类属性，即引用的是实例属性，除非删除了该实例属性。"
   ]
  },
  {
   "cell_type": "markdown",
   "metadata": {},
   "source": [
    "类方法是类对象所拥有的方法，需要用修饰器@classmethod来标识其为类方法，对于类方法，第一个参数必须是类对象，一般以cls作为第一个参数（当然可以用其他名称的变量作为其第一个参数，但是大部分人都习惯以'cls'作为第一个参数的名字，就最好用'cls'了），能够通过实例对象和类对象去访问。"
   ]
  },
  {
   "cell_type": "code",
   "execution_count": 13,
   "metadata": {},
   "outputs": [],
   "source": [
    "class People(object):\n",
    "    country = 'china'\n",
    "\n",
    "    #类方法，用classmethod来进行修饰\n",
    "    @classmethod\n",
    "    def getCountry(cls):\n",
    "        return cls.country\n",
    "\n",
    "p = People()"
   ]
  },
  {
   "cell_type": "code",
   "execution_count": 14,
   "metadata": {},
   "outputs": [
    {
     "data": {
      "text/plain": [
       "'china'"
      ]
     },
     "execution_count": 14,
     "metadata": {},
     "output_type": "execute_result"
    }
   ],
   "source": [
    "p.getCountry()    #可以用过实例对象引用"
   ]
  },
  {
   "cell_type": "code",
   "execution_count": 15,
   "metadata": {},
   "outputs": [
    {
     "data": {
      "text/plain": [
       "'china'"
      ]
     },
     "execution_count": 15,
     "metadata": {},
     "output_type": "execute_result"
    }
   ],
   "source": [
    "People.getCountry()    #可以通过类对象引用"
   ]
  },
  {
   "cell_type": "code",
   "execution_count": 16,
   "metadata": {},
   "outputs": [],
   "source": [
    "class People(object):\n",
    "    country = 'china'\n",
    "\n",
    "    #类方法，用classmethod来进行修饰\n",
    "#     @classmethod\n",
    "    def getCountry(cls):\n",
    "        return cls.country\n",
    "\n",
    "p = People()"
   ]
  },
  {
   "cell_type": "code",
   "execution_count": 17,
   "metadata": {},
   "outputs": [
    {
     "data": {
      "text/plain": [
       "'china'"
      ]
     },
     "execution_count": 17,
     "metadata": {},
     "output_type": "execute_result"
    }
   ],
   "source": [
    "p.getCountry()"
   ]
  },
  {
   "cell_type": "code",
   "execution_count": 18,
   "metadata": {},
   "outputs": [
    {
     "ename": "TypeError",
     "evalue": "getCountry() missing 1 required positional argument: 'cls'",
     "output_type": "error",
     "traceback": [
      "\u001b[0;31m---------------------------------------------------------------------------\u001b[0m",
      "\u001b[0;31mTypeError\u001b[0m                                 Traceback (most recent call last)",
      "\u001b[0;32m<ipython-input-18-640c230d6ec0>\u001b[0m in \u001b[0;36m<module>\u001b[0;34m()\u001b[0m\n\u001b[0;32m----> 1\u001b[0;31m \u001b[0mPeople\u001b[0m\u001b[0;34m.\u001b[0m\u001b[0mgetCountry\u001b[0m\u001b[0;34m(\u001b[0m\u001b[0;34m)\u001b[0m\u001b[0;34m\u001b[0m\u001b[0m\n\u001b[0m",
      "\u001b[0;31mTypeError\u001b[0m: getCountry() missing 1 required positional argument: 'cls'"
     ]
    }
   ],
   "source": [
    "People.getCountry()"
   ]
  },
  {
   "cell_type": "code",
   "execution_count": 21,
   "metadata": {},
   "outputs": [
    {
     "data": {
      "text/plain": [
       "'china'"
      ]
     },
     "execution_count": 21,
     "metadata": {},
     "output_type": "execute_result"
    }
   ],
   "source": [
    " class People(object):\n",
    "    country = 'china'\n",
    "\n",
    "    @staticmethod\n",
    "    #静态方法\n",
    "    def getCountry():\n",
    "        return People.country\n",
    "\n",
    "\n",
    "People.getCountry()"
   ]
  },
  {
   "cell_type": "code",
   "execution_count": 22,
   "metadata": {},
   "outputs": [],
   "source": [
    "# 需要通过修饰器@staticmethod来进行修饰，静态方法不需要多定义参数"
   ]
  },
  {
   "cell_type": "code",
   "execution_count": 23,
   "metadata": {},
   "outputs": [],
   "source": [
    "# 从类方法和实例方法以及静态方法的定义形式就可以看出来，类方法的第一个参数是类对象cls，\n",
    "# 那么通过cls引用的必定是类对象的属性和方法；而实例方法的第一个参数是实例对象self，\n",
    "# 那么通过self引用的可能是类属性、也有可能是实例属性（这个需要具体分析），\n",
    "# 不过在存在相同名称的类属性和实例属性的情况下，实例属性优先级更高。\n",
    "# 静态方法中不需要额外定义参数，因此在静态方法中引用类属性的话，必须通过类对象来引用"
   ]
  },
  {
   "cell_type": "code",
   "execution_count": 24,
   "metadata": {},
   "outputs": [
    {
     "name": "stdout",
     "output_type": "stream",
     "text": [
      "---车在移动---\n",
      "---停车---\n"
     ]
    }
   ],
   "source": [
    "# 定义一个基本的4S店类\n",
    "class CarStore(object):\n",
    "\n",
    "    #仅仅是定义了有这个方法，并没有实现，具体功能，这个需要在子类中实现\n",
    "    def createCar(self, typeName):\n",
    "        pass\n",
    "\n",
    "    def order(self, typeName):\n",
    "        # 让工厂根据类型，生产一辆汽车\n",
    "        self.car = self.createCar(typeName)\n",
    "        self.car.move()\n",
    "        self.car.stop()\n",
    "\n",
    "# 定义一个北京现代4S店类\n",
    "class XiandaiCarStore(CarStore):\n",
    "\n",
    "    def createCar(self, typeName):\n",
    "        self.carFactory = CarFactory()\n",
    "        return self.carFactory.createCar(typeName)\n",
    "\n",
    "\n",
    "# 定义伊兰特车类\n",
    "class YilanteCar(object):\n",
    "\n",
    "    # 定义车的方法\n",
    "    def move(self):\n",
    "        print(\"---车在移动---\")\n",
    "\n",
    "    def stop(self):\n",
    "        print(\"---停车---\")\n",
    "\n",
    "# 定义索纳塔车类\n",
    "class SuonataCar(object):\n",
    "\n",
    "    # 定义车的方法\n",
    "    def move(self):\n",
    "        print(\"---车在移动---\")\n",
    "\n",
    "    def stop(self):\n",
    "        print(\"---停车---\")\n",
    "\n",
    "# 定义一个生产汽车的工厂，让其根据具体得订单生产车\n",
    "class CarFactory(object):\n",
    "\n",
    "    def createCar(self,typeName):\n",
    "        self.typeName = typeName\n",
    "        if self.typeName == \"伊兰特\":\n",
    "            self.car = YilanteCar()\n",
    "        elif self.typeName == \"索纳塔\":\n",
    "            self.car = SuonataCar()\n",
    "\n",
    "        return self.car\n",
    "\n",
    "suonata = XiandaiCarStore()\n",
    "suonata.order(\"索纳塔\")"
   ]
  },
  {
   "cell_type": "code",
   "execution_count": 25,
   "metadata": {},
   "outputs": [
    {
     "name": "stdout",
     "output_type": "stream",
     "text": [
      "这是 new 方法\n",
      "这是 init 方法\n"
     ]
    },
    {
     "data": {
      "text/plain": [
       "<__main__.A at 0x104fd9e48>"
      ]
     },
     "execution_count": 25,
     "metadata": {},
     "output_type": "execute_result"
    }
   ],
   "source": [
    "class A(object):\n",
    "    def __init__(self):\n",
    "        print(\"这是 init 方法\")\n",
    "\n",
    "    def __new__(cls):\n",
    "        print(\"这是 new 方法\")\n",
    "        return object.__new__(cls)\n",
    "\n",
    "A()"
   ]
  },
  {
   "cell_type": "markdown",
   "metadata": {},
   "source": [
    "__new__至少要有一个参数cls，代表要实例化的类，此参数在实例化时由Python解释器自动提供\n",
    "\n",
    "__new__必须要有返回值，返回实例化出来的实例，这点在自己实现__new__时要特别注意，可以return父类__new__出来的实例，或者直接是object的__new__出来的实例\n",
    "\n",
    "__init__有一个参数self，就是这个__new__返回的实例，__init__在__new__的基础上可以完成一些其它初始化的动作，__init__不需要返回值"
   ]
  },
  {
   "cell_type": "code",
   "execution_count": 26,
   "metadata": {},
   "outputs": [
    {
     "name": "stdout",
     "output_type": "stream",
     "text": [
      "4378031776\n",
      "4378031776\n",
      "19\n"
     ]
    }
   ],
   "source": [
    "# 实例化一个单例\n",
    "class Singleton(object):\n",
    "    __instance = None\n",
    "\n",
    "    def __new__(cls, age, name):\n",
    "        #如果类数字能够__instance没有或者没有赋值\n",
    "        #那么就创建一个对象，并且赋值为这个对象的引用，保证下次调用这个方法时\n",
    "        #能够知道之前已经创建过对象了，这样就保证了只有1个对象\n",
    "        if not cls.__instance:\n",
    "            cls.__instance = object.__new__(cls)\n",
    "        return cls.__instance\n",
    "\n",
    "a = Singleton(18, \"dongGe\")\n",
    "b = Singleton(8, \"dongGe\")\n",
    "\n",
    "print(id(a))\n",
    "print(id(b))\n",
    "\n",
    "a.age = 19 #给a指向的对象添加一个属性\n",
    "print(b.age)#获取b指向的对象的age属性"
   ]
  },
  {
   "cell_type": "code",
   "execution_count": 27,
   "metadata": {},
   "outputs": [
    {
     "name": "stdout",
     "output_type": "stream",
     "text": [
      "4377918320\n",
      "4377918320\n",
      "18\n",
      "18\n",
      "19\n"
     ]
    }
   ],
   "source": [
    "# 实例化一个单例\n",
    "class Singleton(object):\n",
    "    __instance = None\n",
    "    __first_init = False\n",
    "\n",
    "    def __new__(cls, age, name):\n",
    "        if not cls.__instance:\n",
    "            cls.__instance = object.__new__(cls)\n",
    "        return cls.__instance\n",
    "\n",
    "    def __init__(self, age, name):\n",
    "        if not self.__first_init:\n",
    "            self.age = age\n",
    "            self.name = name\n",
    "            Singleton.__first_init = True\n",
    "\n",
    "\n",
    "a = Singleton(18, \"dongGe\")\n",
    "b = Singleton(8, \"dongGe\")\n",
    "\n",
    "print(id(a))\n",
    "print(id(b))\n",
    "\n",
    "\n",
    "print(a.age)\n",
    "print(b.age)\n",
    "\n",
    "a.age = 19\n",
    "print(b.age)\n"
   ]
  },
  {
   "cell_type": "code",
   "execution_count": null,
   "metadata": {},
   "outputs": [],
   "source": []
  }
 ],
 "metadata": {
  "kernelspec": {
   "display_name": "Python 3",
   "language": "python",
   "name": "python3"
  },
  "language_info": {
   "codemirror_mode": {
    "name": "ipython",
    "version": 3
   },
   "file_extension": ".py",
   "mimetype": "text/x-python",
   "name": "python",
   "nbconvert_exporter": "python",
   "pygments_lexer": "ipython3",
   "version": "3.6.5"
  }
 },
 "nbformat": 4,
 "nbformat_minor": 2
}
