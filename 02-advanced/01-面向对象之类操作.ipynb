{
 "cells": [
  {
   "cell_type": "markdown",
   "metadata": {},
   "source": [
    "面向对象"
   ]
  },
  {
   "cell_type": "code",
   "execution_count": 1,
   "metadata": {},
   "outputs": [],
   "source": [
    "# 定义类\n",
    "class Car:\n",
    "    # 移动\n",
    "    def move(self):\n",
    "        print('车在奔跑...')\n",
    "\n",
    "    # 鸣笛\n",
    "    def toot(self):\n",
    "        print(\"车在鸣笛...嘟嘟..\")"
   ]
  },
  {
   "cell_type": "code",
   "execution_count": 2,
   "metadata": {},
   "outputs": [
    {
     "name": "stdout",
     "output_type": "stream",
     "text": [
      "车在奔跑...\n",
      "车在鸣笛...嘟嘟..\n",
      "黑色\n",
      "4\n"
     ]
    }
   ],
   "source": [
    "BMW = Car()\n",
    "BMW.color = '黑色'\n",
    "BMW.wheelNum = 4 #轮子数量\n",
    "BMW.move()\n",
    "BMW.toot()\n",
    "print(BMW.color)\n",
    "print(BMW.wheelNum)"
   ]
  },
  {
   "cell_type": "markdown",
   "metadata": {},
   "source": [
    "__init__() "
   ]
  },
  {
   "cell_type": "code",
   "execution_count": 3,
   "metadata": {},
   "outputs": [
    {
     "name": "stdout",
     "output_type": "stream",
     "text": [
      "车的颜色为:蓝色\n",
      "车轮胎数量为:4\n"
     ]
    }
   ],
   "source": [
    "# 定义汽车类\n",
    "class Car:\n",
    "\n",
    "    def __init__(self):\n",
    "        self.wheelNum = 4\n",
    "        self.color = '蓝色'\n",
    "\n",
    "    def move(self):\n",
    "        print('车在跑，目标:夏威夷')\n",
    "\n",
    "# 创建对象\n",
    "BMW = Car()\n",
    "\n",
    "print('车的颜色为:%s'%BMW.color)\n",
    "print('车轮胎数量为:%d'%BMW.wheelNum)"
   ]
  },
  {
   "cell_type": "markdown",
   "metadata": {},
   "source": [
    "__init__()方法，在创建一个对象时默认被调用，不需要手动调用\n",
    "__init__(self)中，默认有1个参数名字为self，如果在创建对象时传递了2个实参，那么__init__(self)中出了self作为第一个形参外还需要2个形参，例如__init__(self,x,y)\n",
    "__init__(self)中的self参数，不需要开发者传递，python解释器会自动把当前的对象引用传递进去"
   ]
  },
  {
   "cell_type": "code",
   "execution_count": 7,
   "metadata": {},
   "outputs": [
    {
     "name": "stdout",
     "output_type": "stream",
     "text": [
      "嘿。。。我的颜色是白色我有4个轮胎...\n"
     ]
    }
   ],
   "source": [
    "class Car:\n",
    "\n",
    "    def __init__(self, newWheelNum, newColor):\n",
    "        self.wheelNum = newWheelNum\n",
    "        self.color = newColor\n",
    "\n",
    "    def __str__(self):\n",
    "        msg = \"嘿。。。我的颜色是\" + self.color + \"我有\" + str(self.wheelNum) + \"个轮胎...\"\n",
    "        return msg\n",
    "\n",
    "    def move(self):\n",
    "        print('车在跑，目标:夏威夷')\n",
    "\n",
    "\n",
    "BMW = Car(4, \"白色\")\n",
    "print(BMW)"
   ]
  },
  {
   "cell_type": "code",
   "execution_count": 8,
   "metadata": {},
   "outputs": [],
   "source": [
    "# 定义一个类\n",
    "class Animal:\n",
    "\n",
    "    # 方法\n",
    "    def __init__(self, name):\n",
    "        self.name = name\n",
    "\n",
    "    def printName(self):\n",
    "        print('名字为:%s'%self.name)"
   ]
  },
  {
   "cell_type": "code",
   "execution_count": 9,
   "metadata": {},
   "outputs": [],
   "source": [
    "def myPrint(animal):\n",
    "    animal.printName()"
   ]
  },
  {
   "cell_type": "code",
   "execution_count": 10,
   "metadata": {},
   "outputs": [
    {
     "name": "stdout",
     "output_type": "stream",
     "text": [
      "名字为:西西\n",
      "名字为:北北\n"
     ]
    }
   ],
   "source": [
    "dog1 = Animal('西西')\n",
    "myPrint(dog1)\n",
    "\n",
    "dog2 = Animal('北北')\n",
    "myPrint(dog2)"
   ]
  },
  {
   "cell_type": "markdown",
   "metadata": {},
   "source": [
    "某个对象调用其方法时，python解释器会把这个对象作为第一个参数传递给self，所以开发者只需要传递后面的参数即可"
   ]
  },
  {
   "cell_type": "code",
   "execution_count": 11,
   "metadata": {},
   "outputs": [
    {
     "name": "stdout",
     "output_type": "stream",
     "text": [
      "0\n",
      "生的\n",
      "[]\n"
     ]
    }
   ],
   "source": [
    "class SweetPotato:\n",
    "    '这是烤地瓜的类'\n",
    "\n",
    "    #定义初始化方法\n",
    "    def __init__(self):\n",
    "        self.cookedLevel = 0\n",
    "        self.cookedString = \"生的\"\n",
    "        self.condiments = []\n",
    "\n",
    "        #烤地瓜方法\n",
    "    def cook(self, time):\n",
    "        self.cookedLevel += time\n",
    "        if self.cookedLevel > 8:\n",
    "            self.cookedString = \"烤成灰了\"\n",
    "        elif self.cookedLevel > 5:\n",
    "            self.cookedString = \"烤好了\"    \n",
    "        elif self.cookedLevel > 3:\n",
    "            self.cookedString = \"半生不熟\"\n",
    "        else:\n",
    "            self.cookedString = \"生的\"\n",
    "\n",
    "# 用来进行测试\n",
    "mySweetPotato = SweetPotato()\n",
    "print(mySweetPotato.cookedLevel)\n",
    "print(mySweetPotato.cookedString)\n",
    "print(mySweetPotato.condiments)"
   ]
  },
  {
   "cell_type": "code",
   "execution_count": 12,
   "metadata": {},
   "outputs": [
    {
     "name": "stdout",
     "output_type": "stream",
     "text": [
      "------接下来要进行烤地瓜了-----\n",
      "4\n",
      "半生不熟\n"
     ]
    }
   ],
   "source": [
    "print(\"------接下来要进行烤地瓜了-----\")\n",
    "mySweetPotato.cook(4) #烤4分钟\n",
    "print(mySweetPotato.cookedLevel)\n",
    "print(mySweetPotato.cookedString)"
   ]
  },
  {
   "cell_type": "code",
   "execution_count": 13,
   "metadata": {},
   "outputs": [
    {
     "name": "stdout",
     "output_type": "stream",
     "text": [
      "当前房间可用面积为:100\n",
      "床的面积为:20\n",
      "ok:已经存放到房间中\n",
      "当前房间可用面积为:80 容纳的物品有: 床\n",
      "床的面积为:30\n",
      "ok:已经存放到房间中\n",
      "当前房间可用面积为:50 容纳的物品有: 床, 席梦思\n"
     ]
    }
   ],
   "source": [
    "#定义一个home类\n",
    "class Home:\n",
    "\n",
    "    def __init__(self, area):\n",
    "        self.area = area #房间剩余的可用面积\n",
    "        #self.light = 'on' #灯默认是亮的\n",
    "        self.containsItem = []\n",
    "\n",
    "    def __str__(self):\n",
    "        msg = \"当前房间可用面积为:\" + str(self.area)\n",
    "        if len(self.containsItem) > 0:\n",
    "            msg = msg + \" 容纳的物品有: \"\n",
    "            for temp in self.containsItem:\n",
    "                msg = msg + temp.getName() + \", \"\n",
    "            msg = msg.strip(\", \")\n",
    "        return msg\n",
    "\n",
    "    #容纳物品\n",
    "    def accommodateItem(self,item):\n",
    "        #如果可用面积大于物品的占用面积\n",
    "        needArea = item.getUsedArea()\n",
    "        if self.area > needArea:\n",
    "            self.containsItem.append(item)\n",
    "            self.area -= needArea\n",
    "            print(\"ok:已经存放到房间中\")\n",
    "        else:\n",
    "            print(\"err:房间可用面积为:%d,但是当前要存放的物品需要的面积为%d\"%(self.area, needArea))\n",
    "\n",
    "\n",
    "#定义bed类\n",
    "class Bed:\n",
    "\n",
    "    def __init__(self,area,name = '床'):\n",
    "        self.name = name\n",
    "        self.area = area\n",
    "\n",
    "    def __str__(self):\n",
    "        msg = '床的面积为:' + str(self.area)\n",
    "        return msg\n",
    "\n",
    "    #获取床的占用面积\n",
    "    def getUsedArea(self):\n",
    "        return self.area\n",
    "\n",
    "    def getName(self):\n",
    "        return self.name\n",
    "\n",
    "\n",
    "#创建一个新家对象\n",
    "newHome = Home(100)#100平米\n",
    "print(newHome)\n",
    "\n",
    "#创建一个床对象\n",
    "newBed = Bed(20)\n",
    "print(newBed)\n",
    "\n",
    "#把床安放到家里\n",
    "newHome.accommodateItem(newBed)\n",
    "print(newHome)\n",
    "\n",
    "#创建一个床对象\n",
    "newBed2 = Bed(30,'席梦思')\n",
    "print(newBed2)\n",
    "\n",
    "#把床安放到家里\n",
    "newHome.accommodateItem(newBed2)\n",
    "print(newHome)"
   ]
  },
  {
   "cell_type": "code",
   "execution_count": 14,
   "metadata": {},
   "outputs": [
    {
     "ename": "AttributeError",
     "evalue": "'People' object has no attribute '__name'",
     "output_type": "error",
     "traceback": [
      "\u001b[0;31m---------------------------------------------------------------------------\u001b[0m",
      "\u001b[0;31mAttributeError\u001b[0m                            Traceback (most recent call last)",
      "\u001b[0;32m<ipython-input-14-195f3bfe4ba3>\u001b[0m in \u001b[0;36m<module>\u001b[0;34m()\u001b[0m\n\u001b[1;32m     14\u001b[0m \u001b[0;34m\u001b[0m\u001b[0m\n\u001b[1;32m     15\u001b[0m \u001b[0mxiaoming\u001b[0m \u001b[0;34m=\u001b[0m \u001b[0mPeople\u001b[0m\u001b[0;34m(\u001b[0m\u001b[0;34m\"dongGe\"\u001b[0m\u001b[0;34m)\u001b[0m\u001b[0;34m\u001b[0m\u001b[0m\n\u001b[0;32m---> 16\u001b[0;31m \u001b[0mprint\u001b[0m\u001b[0;34m(\u001b[0m\u001b[0mxiaoming\u001b[0m\u001b[0;34m.\u001b[0m\u001b[0m__name\u001b[0m\u001b[0;34m)\u001b[0m\u001b[0;34m\u001b[0m\u001b[0m\n\u001b[0m",
      "\u001b[0;31mAttributeError\u001b[0m: 'People' object has no attribute '__name'"
     ]
    }
   ],
   "source": [
    "class People(object):\n",
    "\n",
    "    def __init__(self, name):\n",
    "        self.__name = name\n",
    "\n",
    "    def getName(self):\n",
    "        return self.__name\n",
    "\n",
    "    def setName(self, newName):\n",
    "        if len(newName) >= 5:\n",
    "            self.__name = newName\n",
    "        else:\n",
    "            print(\"error:名字长度需要大于或者等于5\")\n",
    "\n",
    "xiaoming = People(\"dongGe\")\n",
    "print(xiaoming.__name)"
   ]
  },
  {
   "cell_type": "code",
   "execution_count": 15,
   "metadata": {},
   "outputs": [],
   "source": [
    "xiaoming = People(\"dongGe\")"
   ]
  },
  {
   "cell_type": "code",
   "execution_count": 16,
   "metadata": {},
   "outputs": [
    {
     "data": {
      "text/plain": [
       "'dongGe'"
      ]
     },
     "execution_count": 16,
     "metadata": {},
     "output_type": "execute_result"
    }
   ],
   "source": [
    "xiaoming.getName()"
   ]
  },
  {
   "cell_type": "markdown",
   "metadata": {},
   "source": [
    "python中没有private 和public这些关键字，默认属性是public，__代表私有"
   ]
  },
  {
   "cell_type": "code",
   "execution_count": 17,
   "metadata": {},
   "outputs": [
    {
     "name": "stdout",
     "output_type": "stream",
     "text": [
      "__init__方法被调用\n",
      "__del__方法被调用\n",
      "哈皮狗对象马上被干掉了...\n",
      "__init__方法被调用\n",
      "---马上 删除cat对象\n",
      "---马上 删除cat2对象\n",
      "---马上 删除cat3对象\n",
      "__del__方法被调用\n",
      "波斯猫对象马上被干掉了...\n",
      "程序2秒钟后结束\n"
     ]
    }
   ],
   "source": [
    "import time\n",
    "class Animal(object):\n",
    "\n",
    "    # 初始化方法\n",
    "    # 创建完对象后会自动被调用\n",
    "    def __init__(self, name):\n",
    "        print('__init__方法被调用')\n",
    "        self.__name = name\n",
    "\n",
    "\n",
    "    # 析构方法\n",
    "    # 当对象被删除时，会自动被调用\n",
    "    def __del__(self):\n",
    "        print(\"__del__方法被调用\")\n",
    "        print(\"%s对象马上被干掉了...\"%self.__name)\n",
    "\n",
    "# 创建对象\n",
    "dog = Animal(\"哈皮狗\")\n",
    "\n",
    "# 删除对象\n",
    "del dog\n",
    "\n",
    "\n",
    "cat = Animal(\"波斯猫\")\n",
    "cat2 = cat\n",
    "cat3 = cat\n",
    "\n",
    "print(\"---马上 删除cat对象\")\n",
    "del cat\n",
    "print(\"---马上 删除cat2对象\")\n",
    "del cat2\n",
    "print(\"---马上 删除cat3对象\")\n",
    "del cat3\n",
    "\n",
    "print(\"程序2秒钟后结束\")\n",
    "time.sleep(2)"
   ]
  },
  {
   "cell_type": "markdown",
   "metadata": {},
   "source": [
    "当有1个变量保存了对象的引用时，此对象的引用计数就会加1\n",
    "当使用del删除变量指向的对象时，如果对象的引用计数不会1，比如3，那么此时只会让这个引用计数减1，即变为2，当再次调用del时，变为1，如果再调用1次del，此时会真的把对象进行删除"
   ]
  },
  {
   "cell_type": "code",
   "execution_count": null,
   "metadata": {},
   "outputs": [],
   "source": []
  }
 ],
 "metadata": {
  "kernelspec": {
   "display_name": "Python 3",
   "language": "python",
   "name": "python3"
  },
  "language_info": {
   "codemirror_mode": {
    "name": "ipython",
    "version": 3
   },
   "file_extension": ".py",
   "mimetype": "text/x-python",
   "name": "python",
   "nbconvert_exporter": "python",
   "pygments_lexer": "ipython3",
   "version": "3.6.5"
  }
 },
 "nbformat": 4,
 "nbformat_minor": 2
}
