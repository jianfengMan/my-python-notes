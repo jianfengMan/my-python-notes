{
 "cells": [
  {
   "cell_type": "code",
   "execution_count": 1,
   "metadata": {},
   "outputs": [],
   "source": [
    "#数组排序"
   ]
  },
  {
   "cell_type": "code",
   "execution_count": 3,
   "metadata": {},
   "outputs": [],
   "source": [
    "from numpy import *"
   ]
  },
  {
   "cell_type": "code",
   "execution_count": 4,
   "metadata": {},
   "outputs": [],
   "source": [
    "names = array(['bob', 'sue', 'jan', 'ad'])\n",
    "weights = array([20.8, 93.2, 53.4, 61.8])"
   ]
  },
  {
   "cell_type": "code",
   "execution_count": 5,
   "metadata": {},
   "outputs": [
    {
     "data": {
      "text/plain": [
       "array([20.8, 53.4, 61.8, 93.2])"
      ]
     },
     "execution_count": 5,
     "metadata": {},
     "output_type": "execute_result"
    }
   ],
   "source": [
    "sort(weights)"
   ]
  },
  {
   "cell_type": "code",
   "execution_count": 7,
   "metadata": {},
   "outputs": [],
   "source": [
    "#argsort返回索引"
   ]
  },
  {
   "cell_type": "code",
   "execution_count": 8,
   "metadata": {},
   "outputs": [],
   "source": [
    "ordered_indices = argsort(weights)"
   ]
  },
  {
   "cell_type": "code",
   "execution_count": 9,
   "metadata": {},
   "outputs": [
    {
     "data": {
      "text/plain": [
       "array([0, 2, 3, 1])"
      ]
     },
     "execution_count": 9,
     "metadata": {},
     "output_type": "execute_result"
    }
   ],
   "source": [
    "ordered_indices"
   ]
  },
  {
   "cell_type": "code",
   "execution_count": 10,
   "metadata": {},
   "outputs": [
    {
     "data": {
      "text/plain": [
       "array([20.8, 53.4, 61.8, 93.2])"
      ]
     },
     "execution_count": 10,
     "metadata": {},
     "output_type": "execute_result"
    }
   ],
   "source": [
    "weights[ordered_indices]"
   ]
  },
  {
   "cell_type": "code",
   "execution_count": 11,
   "metadata": {},
   "outputs": [
    {
     "data": {
      "text/plain": [
       "array(['bob', 'jan', 'ad', 'sue'], dtype='<U3')"
      ]
     },
     "execution_count": 11,
     "metadata": {},
     "output_type": "execute_result"
    }
   ],
   "source": [
    "names[ordered_indices]"
   ]
  },
  {
   "cell_type": "code",
   "execution_count": 12,
   "metadata": {},
   "outputs": [
    {
     "data": {
      "text/plain": [
       "array([0, 2, 3, 1])"
      ]
     },
     "execution_count": 12,
     "metadata": {},
     "output_type": "execute_result"
    }
   ],
   "source": [
    "data = array([20.8,  93.2,  53.4,  61.8])\n",
    "data.argsort()"
   ]
  },
  {
   "cell_type": "code",
   "execution_count": 13,
   "metadata": {},
   "outputs": [
    {
     "data": {
      "text/plain": [
       "array([20.8, 93.2, 53.4, 61.8])"
      ]
     },
     "execution_count": 13,
     "metadata": {},
     "output_type": "execute_result"
    }
   ],
   "source": [
    "data"
   ]
  },
  {
   "cell_type": "code",
   "execution_count": 14,
   "metadata": {},
   "outputs": [],
   "source": [
    "data.sort()"
   ]
  },
  {
   "cell_type": "code",
   "execution_count": 15,
   "metadata": {},
   "outputs": [],
   "source": [
    "#二维数组排序，对于多位数组，sort方法默认沿着最后一维开始排序"
   ]
  },
  {
   "cell_type": "code",
   "execution_count": 16,
   "metadata": {},
   "outputs": [],
   "source": [
    "a = array([\n",
    "        [.2, .1, .5], \n",
    "        [.4, .8, .3],\n",
    "        [.9, .6, .7]\n",
    "    ])"
   ]
  },
  {
   "cell_type": "code",
   "execution_count": 17,
   "metadata": {},
   "outputs": [
    {
     "data": {
      "text/plain": [
       "array([[0.2, 0.1, 0.5],\n",
       "       [0.4, 0.8, 0.3],\n",
       "       [0.9, 0.6, 0.7]])"
      ]
     },
     "execution_count": 17,
     "metadata": {},
     "output_type": "execute_result"
    }
   ],
   "source": [
    "a"
   ]
  },
  {
   "cell_type": "code",
   "execution_count": 18,
   "metadata": {},
   "outputs": [
    {
     "data": {
      "text/plain": [
       "array([[0.1, 0.2, 0.5],\n",
       "       [0.3, 0.4, 0.8],\n",
       "       [0.6, 0.7, 0.9]])"
      ]
     },
     "execution_count": 18,
     "metadata": {},
     "output_type": "execute_result"
    }
   ],
   "source": [
    "sort(a)"
   ]
  },
  {
   "cell_type": "code",
   "execution_count": 19,
   "metadata": {},
   "outputs": [
    {
     "data": {
      "text/plain": [
       "array([[0.2, 0.1, 0.3],\n",
       "       [0.4, 0.6, 0.5],\n",
       "       [0.9, 0.8, 0.7]])"
      ]
     },
     "execution_count": 19,
     "metadata": {},
     "output_type": "execute_result"
    }
   ],
   "source": [
    "sort(a,axis=0)"
   ]
  },
  {
   "cell_type": "code",
   "execution_count": 20,
   "metadata": {},
   "outputs": [],
   "source": [
    "sorted_array = linspace(0,1,5)"
   ]
  },
  {
   "cell_type": "code",
   "execution_count": 21,
   "metadata": {},
   "outputs": [
    {
     "data": {
      "text/plain": [
       "array([0.  , 0.25, 0.5 , 0.75, 1.  ])"
      ]
     },
     "execution_count": 21,
     "metadata": {},
     "output_type": "execute_result"
    }
   ],
   "source": [
    "sorted_array"
   ]
  },
  {
   "cell_type": "code",
   "execution_count": 23,
   "metadata": {},
   "outputs": [
    {
     "data": {
      "text/plain": [
       "array([1, 4, 2, 1, 2, 1])"
      ]
     },
     "execution_count": 23,
     "metadata": {},
     "output_type": "execute_result"
    }
   ],
   "source": [
    "sorted_array = linspace(0,1,5)\n",
    "values = array([.1,.8,.3,.12,.5,.25])\n",
    "searchsorted(sorted_array,values)"
   ]
  },
  {
   "cell_type": "code",
   "execution_count": 24,
   "metadata": {},
   "outputs": [
    {
     "data": {
      "text/plain": [
       "array([0.  , 0.25, 0.5 , 0.75, 1.  ])"
      ]
     },
     "execution_count": 24,
     "metadata": {},
     "output_type": "execute_result"
    }
   ],
   "source": [
    "sorted_array"
   ]
  },
  {
   "cell_type": "code",
   "execution_count": 25,
   "metadata": {},
   "outputs": [],
   "source": [
    "# searchsorted 返回的值相当于保持第一个数组的排序性质不变，将第二个数组中的值插入第一个数组中的位置：\n",
    "\n",
    "# 例如 0.1 在 [0.0, 0.25) 之间，所以插入时应当放在第一个数组的索引 1 处，故第一个返回值为  1。"
   ]
  },
  {
   "cell_type": "code",
   "execution_count": 26,
   "metadata": {},
   "outputs": [],
   "source": [
    "bounds = .4,.6"
   ]
  },
  {
   "cell_type": "code",
   "execution_count": 27,
   "metadata": {},
   "outputs": [
    {
     "data": {
      "text/plain": [
       "(0.4, 0.6)"
      ]
     },
     "execution_count": 27,
     "metadata": {},
     "output_type": "execute_result"
    }
   ],
   "source": [
    "bounds"
   ]
  },
  {
   "cell_type": "code",
   "execution_count": 29,
   "metadata": {},
   "outputs": [],
   "source": [
    "from numpy.random import  rand"
   ]
  },
  {
   "cell_type": "code",
   "execution_count": 30,
   "metadata": {},
   "outputs": [],
   "source": [
    "data = rand(100)"
   ]
  },
  {
   "cell_type": "code",
   "execution_count": 31,
   "metadata": {},
   "outputs": [
    {
     "data": {
      "text/plain": [
       "array([0.73090111, 0.3066912 , 0.21370949, 0.11656923, 0.96844053,\n",
       "       0.8331799 , 0.20754672, 0.14031802, 0.40627933, 0.67784429,\n",
       "       0.18445581, 0.8987309 , 0.76843631, 0.04163542, 0.35610389,\n",
       "       0.53261344, 0.79059478, 0.52733837, 0.51981208, 0.04719047,\n",
       "       0.74419271, 0.89981474, 0.1058335 , 0.23032233, 0.87641989,\n",
       "       0.70726534, 0.30280015, 0.85675356, 0.92364047, 0.79357671,\n",
       "       0.76127056, 0.8941402 , 0.61636331, 0.7126891 , 0.99150767,\n",
       "       0.23077522, 0.46248262, 0.50228037, 0.81131686, 0.92074518,\n",
       "       0.68189904, 0.86891951, 0.0910706 , 0.916335  , 0.57784544,\n",
       "       0.14407355, 0.58881359, 0.542353  , 0.38802999, 0.31765908,\n",
       "       0.01907419, 0.26055918, 0.75445687, 0.16064128, 0.8511018 ,\n",
       "       0.83930157, 0.86537443, 0.68257728, 0.8628763 , 0.19821173,\n",
       "       0.69868982, 0.78907731, 0.10159647, 0.48493015, 0.1219266 ,\n",
       "       0.61348473, 0.90029399, 0.9710291 , 0.90147459, 0.30709196,\n",
       "       0.58027721, 0.05155113, 0.11661918, 0.39764161, 0.50120113,\n",
       "       0.35475081, 0.9688523 , 0.32802019, 0.26665014, 0.86167912,\n",
       "       0.81670525, 0.61801492, 0.36698778, 0.96330927, 0.50829647,\n",
       "       0.77183677, 0.08099189, 0.74763438, 0.26037243, 0.20196065,\n",
       "       0.53557973, 0.59385377, 0.2673249 , 0.62570687, 0.90409676,\n",
       "       0.16585951, 0.59945079, 0.66214239, 0.67321716, 0.53647674])"
      ]
     },
     "execution_count": 31,
     "metadata": {},
     "output_type": "execute_result"
    }
   ],
   "source": [
    "data"
   ]
  },
  {
   "cell_type": "code",
   "execution_count": 32,
   "metadata": {},
   "outputs": [],
   "source": [
    "data.sort()"
   ]
  },
  {
   "cell_type": "code",
   "execution_count": 33,
   "metadata": {},
   "outputs": [
    {
     "data": {
      "text/plain": [
       "array([0.01907419, 0.04163542, 0.04719047, 0.05155113, 0.08099189,\n",
       "       0.0910706 , 0.10159647, 0.1058335 , 0.11656923, 0.11661918,\n",
       "       0.1219266 , 0.14031802, 0.14407355, 0.16064128, 0.16585951,\n",
       "       0.18445581, 0.19821173, 0.20196065, 0.20754672, 0.21370949,\n",
       "       0.23032233, 0.23077522, 0.26037243, 0.26055918, 0.26665014,\n",
       "       0.2673249 , 0.30280015, 0.3066912 , 0.30709196, 0.31765908,\n",
       "       0.32802019, 0.35475081, 0.35610389, 0.36698778, 0.38802999,\n",
       "       0.39764161, 0.40627933, 0.46248262, 0.48493015, 0.50120113,\n",
       "       0.50228037, 0.50829647, 0.51981208, 0.52733837, 0.53261344,\n",
       "       0.53557973, 0.53647674, 0.542353  , 0.57784544, 0.58027721,\n",
       "       0.58881359, 0.59385377, 0.59945079, 0.61348473, 0.61636331,\n",
       "       0.61801492, 0.62570687, 0.66214239, 0.67321716, 0.67784429,\n",
       "       0.68189904, 0.68257728, 0.69868982, 0.70726534, 0.7126891 ,\n",
       "       0.73090111, 0.74419271, 0.74763438, 0.75445687, 0.76127056,\n",
       "       0.76843631, 0.77183677, 0.78907731, 0.79059478, 0.79357671,\n",
       "       0.81131686, 0.81670525, 0.8331799 , 0.83930157, 0.8511018 ,\n",
       "       0.85675356, 0.86167912, 0.8628763 , 0.86537443, 0.86891951,\n",
       "       0.87641989, 0.8941402 , 0.8987309 , 0.89981474, 0.90029399,\n",
       "       0.90147459, 0.90409676, 0.916335  , 0.92074518, 0.92364047,\n",
       "       0.96330927, 0.96844053, 0.9688523 , 0.9710291 , 0.99150767])"
      ]
     },
     "execution_count": 33,
     "metadata": {},
     "output_type": "execute_result"
    }
   ],
   "source": [
    "data"
   ]
  },
  {
   "cell_type": "code",
   "execution_count": 34,
   "metadata": {},
   "outputs": [],
   "source": [
    "low_idx,high_idx = searchsorted(data,bounds)"
   ]
  },
  {
   "cell_type": "code",
   "execution_count": 35,
   "metadata": {},
   "outputs": [
    {
     "data": {
      "text/plain": [
       "array([0.40627933, 0.46248262, 0.48493015, 0.50120113, 0.50228037,\n",
       "       0.50829647, 0.51981208, 0.52733837, 0.53261344, 0.53557973,\n",
       "       0.53647674, 0.542353  , 0.57784544, 0.58027721, 0.58881359,\n",
       "       0.59385377, 0.59945079])"
      ]
     },
     "execution_count": 35,
     "metadata": {},
     "output_type": "execute_result"
    }
   ],
   "source": [
    "data[low_idx:high_idx]"
   ]
  },
  {
   "cell_type": "code",
   "execution_count": null,
   "metadata": {},
   "outputs": [],
   "source": [
    "# 利用插入位置，将数组中所有在这两个值之间的值提取出来：\n",
    "#  这个思想有趣"
   ]
  }
 ],
 "metadata": {
  "kernelspec": {
   "display_name": "Python 3",
   "language": "python",
   "name": "python3"
  },
  "language_info": {
   "codemirror_mode": {
    "name": "ipython",
    "version": 3
   },
   "file_extension": ".py",
   "mimetype": "text/x-python",
   "name": "python",
   "nbconvert_exporter": "python",
   "pygments_lexer": "ipython3",
   "version": "3.6.5"
  }
 },
 "nbformat": 4,
 "nbformat_minor": 2
}
