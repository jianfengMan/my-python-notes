{
 "cells": [
  {
   "cell_type": "markdown",
   "metadata": {},
   "source": [
    "# 曲线拟合"
   ]
  },
  {
   "cell_type": "code",
   "execution_count": 1,
   "metadata": {
    "collapsed": true
   },
   "outputs": [],
   "source": [
    "import numpy as np\n",
    "import matplotlib as mpl\n",
    "import matplotlib.pyplot as plt"
   ]
  },
  {
   "cell_type": "code",
   "execution_count": 2,
   "metadata": {
    "collapsed": true
   },
   "outputs": [],
   "source": [
    "# 多项式拟合"
   ]
  },
  {
   "cell_type": "code",
   "execution_count": 3,
   "metadata": {
    "collapsed": true
   },
   "outputs": [],
   "source": [
    "from numpy import polyfit,poly1d"
   ]
  },
  {
   "cell_type": "code",
   "execution_count": 4,
   "metadata": {
    "collapsed": true
   },
   "outputs": [],
   "source": [
    "x = np.linspace(-5,5,100)\n",
    "y = 4* x + 1.5\n",
    "noise_y = y + np.random.randn(y.shape[-1] ) * 2.5"
   ]
  },
  {
   "cell_type": "code",
   "execution_count": 5,
   "metadata": {},
   "outputs": [
    {
     "data": {
      "text/plain": [
       "array([-5.        , -4.8989899 , -4.7979798 , -4.6969697 , -4.5959596 ,\n",
       "       -4.49494949, -4.39393939, -4.29292929, -4.19191919, -4.09090909,\n",
       "       -3.98989899, -3.88888889, -3.78787879, -3.68686869, -3.58585859,\n",
       "       -3.48484848, -3.38383838, -3.28282828, -3.18181818, -3.08080808,\n",
       "       -2.97979798, -2.87878788, -2.77777778, -2.67676768, -2.57575758,\n",
       "       -2.47474747, -2.37373737, -2.27272727, -2.17171717, -2.07070707,\n",
       "       -1.96969697, -1.86868687, -1.76767677, -1.66666667, -1.56565657,\n",
       "       -1.46464646, -1.36363636, -1.26262626, -1.16161616, -1.06060606,\n",
       "       -0.95959596, -0.85858586, -0.75757576, -0.65656566, -0.55555556,\n",
       "       -0.45454545, -0.35353535, -0.25252525, -0.15151515, -0.05050505,\n",
       "        0.05050505,  0.15151515,  0.25252525,  0.35353535,  0.45454545,\n",
       "        0.55555556,  0.65656566,  0.75757576,  0.85858586,  0.95959596,\n",
       "        1.06060606,  1.16161616,  1.26262626,  1.36363636,  1.46464646,\n",
       "        1.56565657,  1.66666667,  1.76767677,  1.86868687,  1.96969697,\n",
       "        2.07070707,  2.17171717,  2.27272727,  2.37373737,  2.47474747,\n",
       "        2.57575758,  2.67676768,  2.77777778,  2.87878788,  2.97979798,\n",
       "        3.08080808,  3.18181818,  3.28282828,  3.38383838,  3.48484848,\n",
       "        3.58585859,  3.68686869,  3.78787879,  3.88888889,  3.98989899,\n",
       "        4.09090909,  4.19191919,  4.29292929,  4.39393939,  4.49494949,\n",
       "        4.5959596 ,  4.6969697 ,  4.7979798 ,  4.8989899 ,  5.        ])"
      ]
     },
     "execution_count": 5,
     "metadata": {},
     "output_type": "execute_result"
    }
   ],
   "source": [
    "x"
   ]
  },
  {
   "cell_type": "code",
   "execution_count": 6,
   "metadata": {},
   "outputs": [
    {
     "data": {
      "image/png": "[encoded data removed]",
      "text/plain": [
       "<Figure size 432x288 with 1 Axes>"
      ]
     },
     "metadata": {},
     "output_type": "display_data"
    }
   ],
   "source": [
    "%matplotlib inline\n",
    "p = plt.plot(x,noise_y,'rx')\n",
    "p = plt.plot(x,y,'b:')"
   ]
  },
  {
   "cell_type": "code",
   "execution_count": 7,
   "metadata": {
    "collapsed": true
   },
   "outputs": [],
   "source": [
    "# 进行线性拟合，`polyfit` 是多项式拟合函数，线性拟合即一阶多项式："
   ]
  },
  {
   "cell_type": "code",
   "execution_count": 8,
   "metadata": {},
   "outputs": [
    {
     "data": {
      "text/plain": [
       "array([ 3.92257947,  1.0719364 ])"
      ]
     },
     "execution_count": 8,
     "metadata": {},
     "output_type": "execute_result"
    }
   ],
   "source": [
    "coeff = polyfit(x,noise_y,1)\n",
    "coeff"
   ]
  },
  {
   "cell_type": "markdown",
   "metadata": {},
   "source": [
    "一阶多项式 $y = a_1 x + a_0$ 拟合，返回两个系数 $[a_1, a_0]$。\n",
    "\n",
    "画出拟合曲线："
   ]
  },
  {
   "cell_type": "code",
   "execution_count": 9,
   "metadata": {},
   "outputs": [
    {
     "data": {
      "image/png": "[encoded data removed]",
      "text/plain": [
       "<Figure size 432x288 with 1 Axes>"
      ]
     },
     "metadata": {},
     "output_type": "display_data"
    }
   ],
   "source": [
    "f = poly1d(coeff)\n",
    "p = plt.plot(x, noise_y, 'rx')\n",
    "p = plt.plot(x, f(x))"
   ]
  },
  {
   "cell_type": "code",
   "execution_count": 10,
   "metadata": {},
   "outputs": [
    {
     "data": {
      "text/plain": [
       "poly1d([ 3.92257947,  1.0719364 ])"
      ]
     },
     "execution_count": 10,
     "metadata": {},
     "output_type": "execute_result"
    }
   ],
   "source": [
    "f"
   ]
  },
  {
   "cell_type": "code",
   "execution_count": 11,
   "metadata": {},
   "outputs": [
    {
     "name": "stdout",
     "output_type": "stream",
     "text": [
      " \n",
      "3.923 x + 1.072\n"
     ]
    }
   ],
   "source": [
    "print(f)"
   ]
  },
  {
   "cell_type": "code",
   "execution_count": 12,
   "metadata": {
    "collapsed": true
   },
   "outputs": [],
   "source": [
    "# 多项式拟合正弦函数"
   ]
  },
  {
   "cell_type": "code",
   "execution_count": 13,
   "metadata": {
    "collapsed": true
   },
   "outputs": [],
   "source": [
    "x = np.linspace(-np.pi,np.pi,100)\n",
    "y = np.sin(x)"
   ]
  },
  {
   "cell_type": "code",
   "execution_count": 14,
   "metadata": {},
   "outputs": [
    {
     "data": {
      "text/plain": [
       "(array([-3.14159265, -3.07812614, -3.01465962, -2.9511931 , -2.88772658,\n",
       "        -2.82426006, -2.76079354, -2.69732703, -2.63386051, -2.57039399,\n",
       "        -2.50692747, -2.44346095, -2.37999443, -2.31652792, -2.2530614 ,\n",
       "        -2.18959488, -2.12612836, -2.06266184, -1.99919533, -1.93572881,\n",
       "        -1.87226229, -1.80879577, -1.74532925, -1.68186273, -1.61839622,\n",
       "        -1.5549297 , -1.49146318, -1.42799666, -1.36453014, -1.30106362,\n",
       "        -1.23759711, -1.17413059, -1.11066407, -1.04719755, -0.98373103,\n",
       "        -0.92026451, -0.856798  , -0.79333148, -0.72986496, -0.66639844,\n",
       "        -0.60293192, -0.53946541, -0.47599889, -0.41253237, -0.34906585,\n",
       "        -0.28559933, -0.22213281, -0.1586663 , -0.09519978, -0.03173326,\n",
       "         0.03173326,  0.09519978,  0.1586663 ,  0.22213281,  0.28559933,\n",
       "         0.34906585,  0.41253237,  0.47599889,  0.53946541,  0.60293192,\n",
       "         0.66639844,  0.72986496,  0.79333148,  0.856798  ,  0.92026451,\n",
       "         0.98373103,  1.04719755,  1.11066407,  1.17413059,  1.23759711,\n",
       "         1.30106362,  1.36453014,  1.42799666,  1.49146318,  1.5549297 ,\n",
       "         1.61839622,  1.68186273,  1.74532925,  1.80879577,  1.87226229,\n",
       "         1.93572881,  1.99919533,  2.06266184,  2.12612836,  2.18959488,\n",
       "         2.2530614 ,  2.31652792,  2.37999443,  2.44346095,  2.50692747,\n",
       "         2.57039399,  2.63386051,  2.69732703,  2.76079354,  2.82426006,\n",
       "         2.88772658,  2.9511931 ,  3.01465962,  3.07812614,  3.14159265]),\n",
       " array([ -1.22464680e-16,  -6.34239197e-02,  -1.26592454e-01,\n",
       "         -1.89251244e-01,  -2.51147987e-01,  -3.12033446e-01,\n",
       "         -3.71662456e-01,  -4.29794912e-01,  -4.86196736e-01,\n",
       "         -5.40640817e-01,  -5.92907929e-01,  -6.42787610e-01,\n",
       "         -6.90079011e-01,  -7.34591709e-01,  -7.76146464e-01,\n",
       "         -8.14575952e-01,  -8.49725430e-01,  -8.81453363e-01,\n",
       "         -9.09631995e-01,  -9.34147860e-01,  -9.54902241e-01,\n",
       "         -9.71811568e-01,  -9.84807753e-01,  -9.93838464e-01,\n",
       "         -9.98867339e-01,  -9.99874128e-01,  -9.96854776e-01,\n",
       "         -9.89821442e-01,  -9.78802446e-01,  -9.63842159e-01,\n",
       "         -9.45000819e-01,  -9.22354294e-01,  -8.95993774e-01,\n",
       "         -8.66025404e-01,  -8.32569855e-01,  -7.95761841e-01,\n",
       "         -7.55749574e-01,  -7.12694171e-01,  -6.66769001e-01,\n",
       "         -6.18158986e-01,  -5.67059864e-01,  -5.13677392e-01,\n",
       "         -4.58226522e-01,  -4.00930535e-01,  -3.42020143e-01,\n",
       "         -2.81732557e-01,  -2.20310533e-01,  -1.58001396e-01,\n",
       "         -9.50560433e-02,  -3.17279335e-02,   3.17279335e-02,\n",
       "          9.50560433e-02,   1.58001396e-01,   2.20310533e-01,\n",
       "          2.81732557e-01,   3.42020143e-01,   4.00930535e-01,\n",
       "          4.58226522e-01,   5.13677392e-01,   5.67059864e-01,\n",
       "          6.18158986e-01,   6.66769001e-01,   7.12694171e-01,\n",
       "          7.55749574e-01,   7.95761841e-01,   8.32569855e-01,\n",
       "          8.66025404e-01,   8.95993774e-01,   9.22354294e-01,\n",
       "          9.45000819e-01,   9.63842159e-01,   9.78802446e-01,\n",
       "          9.89821442e-01,   9.96854776e-01,   9.99874128e-01,\n",
       "          9.98867339e-01,   9.93838464e-01,   9.84807753e-01,\n",
       "          9.71811568e-01,   9.54902241e-01,   9.34147860e-01,\n",
       "          9.09631995e-01,   8.81453363e-01,   8.49725430e-01,\n",
       "          8.14575952e-01,   7.76146464e-01,   7.34591709e-01,\n",
       "          6.90079011e-01,   6.42787610e-01,   5.92907929e-01,\n",
       "          5.40640817e-01,   4.86196736e-01,   4.29794912e-01,\n",
       "          3.71662456e-01,   3.12033446e-01,   2.51147987e-01,\n",
       "          1.89251244e-01,   1.26592454e-01,   6.34239197e-02,\n",
       "          1.22464680e-16]))"
      ]
     },
     "execution_count": 14,
     "metadata": {},
     "output_type": "execute_result"
    }
   ],
   "source": [
    "x,y"
   ]
  },
  {
   "cell_type": "code",
   "execution_count": 15,
   "metadata": {
    "collapsed": true
   },
   "outputs": [],
   "source": [
    "# 最小二乘拟合\n",
    "# 导入相关的模块"
   ]
  },
  {
   "cell_type": "code",
   "execution_count": 16,
   "metadata": {
    "collapsed": true
   },
   "outputs": [],
   "source": [
    "from scipy.linalg import lstsq\n",
    "from scipy.stats import linregressss"
   ]
  },
  {
   "cell_type": "code",
   "execution_count": 17,
   "metadata": {},
   "outputs": [
    {
     "data": {
      "text/plain": [
       "[<matplotlib.lines.Line2D at 0x11e078fd0>]"
      ]
     },
     "execution_count": 17,
     "metadata": {},
     "output_type": "execute_result"
    },
    {
     "data": {
      "image/png": "[encoded data removed]",
      "text/plain": [
       "<Figure size 432x288 with 1 Axes>"
      ]
     },
     "metadata": {},
     "output_type": "display_data"
    }
   ],
   "source": [
    "x = np.linspace(0,5,100)\n",
    "y = 0.5 * x + np.random.randn(x.shape[-1]) * 0.35\n",
    "plt.plot(x,y,'x')"
   ]
  },
  {
   "cell_type": "code",
   "execution_count": 18,
   "metadata": {
    "collapsed": true
   },
   "outputs": [],
   "source": [
    "#Scipy.linalg.lstsq 最小二乘解"
   ]
  },
  {
   "cell_type": "code",
   "execution_count": 19,
   "metadata": {},
   "outputs": [
    {
     "data": {
      "text/plain": [
       "array([[ 0.05050505,  1.        ],\n",
       "       [ 0.1010101 ,  1.        ],\n",
       "       [ 0.15151515,  1.        ],\n",
       "       [ 0.2020202 ,  1.        ]])"
      ]
     },
     "execution_count": 19,
     "metadata": {},
     "output_type": "execute_result"
    }
   ],
   "source": [
    "X = np.hstack((x[:,np.newaxis], np.ones((x.shape[-1],1))))\n",
    "X[1:5]"
   ]
  },
  {
   "cell_type": "code",
   "execution_count": 20,
   "metadata": {},
   "outputs": [
    {
     "data": {
      "text/plain": [
       "(array([ 0.52654881, -0.02472533]),\n",
       " 11.236534511819146,\n",
       " 2,\n",
       " array([ 30.23732043,   4.82146667]))"
      ]
     },
     "execution_count": 20,
     "metadata": {},
     "output_type": "execute_result"
    }
   ],
   "source": [
    "C, resid, rank, s = lstsq(X, y)\n",
    "C, resid, rank, s"
   ]
  },
  {
   "cell_type": "code",
   "execution_count": 21,
   "metadata": {},
   "outputs": [
    {
     "name": "stdout",
     "output_type": "stream",
     "text": [
      "sum squared residual = 11.237\n",
      "rank of the X matrix = 2\n",
      "singular values of X = [ 30.23732043   4.82146667]\n"
     ]
    },
    {
     "data": {
      "image/png": "[encoded data removed]",
      "text/plain": [
       "<Figure size 432x288 with 1 Axes>"
      ]
     },
     "metadata": {},
     "output_type": "display_data"
    }
   ],
   "source": [
    "p = plt.plot(x, y, 'rx')\n",
    "p = plt.plot(x, C[0] * x + C[1], 'k--')\n",
    "print (\"sum squared residual = {:.3f}\".format(resid))\n",
    "print (\"rank of the X matrix = {}\".format(rank))\n",
    "print (\"singular values of X = {}\".format(s))"
   ]
  },
  {
   "cell_type": "code",
   "execution_count": 22,
   "metadata": {
    "collapsed": true
   },
   "outputs": [],
   "source": [
    "# Scipy.stats.linregress 线性回归"
   ]
  },
  {
   "cell_type": "code",
   "execution_count": 23,
   "metadata": {},
   "outputs": [
    {
     "data": {
      "text/plain": [
       "(0.52654880553506889, -0.024725333825334816)"
      ]
     },
     "execution_count": 23,
     "metadata": {},
     "output_type": "execute_result"
    }
   ],
   "source": [
    "slope, intercept, r_value, p_value, stderr = linregress(x, y)\n",
    "slope, intercept"
   ]
  },
  {
   "cell_type": "code",
   "execution_count": 24,
   "metadata": {},
   "outputs": [
    {
     "name": "stdout",
     "output_type": "stream",
     "text": [
      "R-value = 0.916\n",
      "p-value (probability there is no correlation) = 9.194e-41\n",
      "Root mean squared error of the fit = 0.152\n"
     ]
    },
    {
     "data": {
      "image/png": "[encoded data removed]",
      "text/plain": [
       "<Figure size 432x288 with 1 Axes>"
      ]
     },
     "metadata": {},
     "output_type": "display_data"
    }
   ],
   "source": [
    "p = plt.plot(x, y, 'rx')\n",
    "p = plt.plot(x, slope * x + intercept, 'k--')\n",
    "print( \"R-value = {:.3f}\".format(r_value))\n",
    "print (\"p-value (probability there is no correlation) = {:.3e}\".format(p_value))\n",
    "print( \"Root mean squared error of the fit = {:.3f}\".format(np.sqrt(stderr)))"
   ]
  },
  {
   "cell_type": "code",
   "execution_count": 25,
   "metadata": {
    "collapsed": true
   },
   "outputs": [],
   "source": [
    "from scipy.optimize import leastsq"
   ]
  },
  {
   "cell_type": "markdown",
   "metadata": {},
   "source": [
    "先定义这个非线性函数：$y = a e^{-b sin( f x + \\phi)}$"
   ]
  },
  {
   "cell_type": "code",
   "execution_count": 26,
   "metadata": {
    "collapsed": true
   },
   "outputs": [],
   "source": [
    "def function(x, a , b, f, phi):\n",
    "    \"\"\"a function of x with four parameters\"\"\"\n",
    "    result = a * np.exp(-b * np.sin(f * x + phi))\n",
    "    return result"
   ]
  },
  {
   "cell_type": "code",
   "execution_count": 27,
   "metadata": {},
   "outputs": [
    {
     "data": {
      "image/png": "[encoded data removed]",
      "text/plain": [
       "<Figure size 432x288 with 1 Axes>"
      ]
     },
     "metadata": {},
     "output_type": "display_data"
    }
   ],
   "source": [
    "x = np.linspace(0, 2 * np.pi, 50)\n",
    "actual_parameters = [3, 2, 1.25, np.pi / 4]\n",
    "y = function(x, *actual_parameters)\n",
    "p = plt.plot(x,y)"
   ]
  },
  {
   "cell_type": "code",
   "execution_count": 28,
   "metadata": {},
   "outputs": [
    {
     "data": {
      "image/png": "[encoded data removed]",
      "text/plain": [
       "<Figure size 432x288 with 1 Axes>"
      ]
     },
     "metadata": {},
     "output_type": "display_data"
    }
   ],
   "source": [
    "from scipy.stats import norm\n",
    "y_noisy = y + 0.8 * norm.rvs(size=len(x))\n",
    "p = plt.plot(x, y, 'k-')\n",
    "p = plt.plot(x, y_noisy, 'rx')"
   ]
  },
  {
   "cell_type": "code",
   "execution_count": 29,
   "metadata": {
    "collapsed": true
   },
   "outputs": [],
   "source": [
    "# 定义误差函数，将要优化的参数放在前面："
   ]
  },
  {
   "cell_type": "code",
   "execution_count": 30,
   "metadata": {
    "collapsed": true
   },
   "outputs": [],
   "source": [
    "def f_err(p, y, x):\n",
    "    return y - function(x, *p)"
   ]
  },
  {
   "cell_type": "code",
   "execution_count": 31,
   "metadata": {},
   "outputs": [
    {
     "data": {
      "text/plain": [
       "(array([ 2.33385454,  2.23476532,  1.18023886,  1.00572815]), 1)"
      ]
     },
     "execution_count": 31,
     "metadata": {},
     "output_type": "execute_result"
    }
   ],
   "source": [
    "c, ret_val = leastsq(f_err, [1, 1, 1, 1], args=(y_noisy, x))\n",
    "c, ret_val"
   ]
  },
  {
   "cell_type": "code",
   "execution_count": 32,
   "metadata": {},
   "outputs": [
    {
     "data": {
      "image/png": "[encoded data removed]",
      "text/plain": [
       "<Figure size 432x288 with 1 Axes>"
      ]
     },
     "metadata": {},
     "output_type": "display_data"
    }
   ],
   "source": [
    "p = plt.plot(x, y_noisy, 'rx')\n",
    "p = plt.plot(x, function(x, *c), 'k--')"
   ]
  },
  {
   "cell_type": "code",
   "execution_count": 33,
   "metadata": {
    "collapsed": true
   },
   "outputs": [],
   "source": [
    "from scipy.optimize import curve_fit"
   ]
  },
  {
   "cell_type": "code",
   "execution_count": 34,
   "metadata": {
    "collapsed": true
   },
   "outputs": [],
   "source": [
    "# 不需要定义误差函数，直接传入 `function` 作为参数："
   ]
  },
  {
   "cell_type": "code",
   "execution_count": 35,
   "metadata": {
    "collapsed": true
   },
   "outputs": [],
   "source": [
    "p_est, err_est = curve_fit(function, x, y_noisy)"
   ]
  },
  {
   "cell_type": "code",
   "execution_count": 36,
   "metadata": {},
   "outputs": [
    {
     "data": {
      "image/png": "[encoded data removed]",
      "text/plain": [
       "<Figure size 432x288 with 1 Axes>"
      ]
     },
     "metadata": {},
     "output_type": "display_data"
    }
   ],
   "source": [
    "p = plt.plot(x, y_noisy, \"rx\")\n",
    "p = plt.plot(x, function(x, *p_est), \"k--\")"
   ]
  },
  {
   "cell_type": "code",
   "execution_count": 37,
   "metadata": {},
   "outputs": [
    {
     "data": {
      "text/plain": [
       "array([[ 0.52077264, -0.22075235,  0.06753549, -0.21210239],\n",
       "       [-0.22075235,  0.09390085, -0.0284417 ,  0.0893242 ],\n",
       "       [ 0.06753549, -0.0284417 ,  0.00929526, -0.02919276],\n",
       "       [-0.21210239,  0.0893242 , -0.02919276,  0.09189611]])"
      ]
     },
     "execution_count": 37,
     "metadata": {},
     "output_type": "execute_result"
    }
   ],
   "source": [
    "err_est"
   ]
  },
  {
   "cell_type": "code",
   "execution_count": 38,
   "metadata": {},
   "outputs": [
    {
     "data": {
      "text/plain": [
       "array([ 0.30920768,  0.13712064,  0.0816885 ,  0.30141716])"
      ]
     },
     "execution_count": 38,
     "metadata": {},
     "output_type": "execute_result"
    }
   ],
   "source": [
    "np.sqrt(err_est.diagonal()) / p_est"
   ]
  },
  {
   "cell_type": "code",
   "execution_count": 40,
   "metadata": {},
   "outputs": [],
   "source": [
    "# 协方差矩阵的对角线为各个参数的方差："
   ]
  },
  {
   "cell_type": "code",
   "execution_count": null,
   "metadata": {
    "collapsed": true
   },
   "outputs": [],
   "source": []
  }
 ],
 "metadata": {
  "kernelspec": {
   "display_name": "Python 3",
   "language": "python",
   "name": "python3"
  },
  "language_info": {
   "codemirror_mode": {
    "name": "ipython",
    "version": 3
   },
   "file_extension": ".py",
   "mimetype": "text/x-python",
   "name": "python",
   "nbconvert_exporter": "python",
   "pygments_lexer": "ipython3",
   "version": "3.6.5"
  }
 },
 "nbformat": 4,
 "nbformat_minor": 2
}
