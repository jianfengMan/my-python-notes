{
 "cells": [
  {
   "cell_type": "code",
   "execution_count": 1,
   "metadata": {},
   "outputs": [],
   "source": [
    "#json模块，处理json数据"
   ]
  },
  {
   "cell_type": "code",
   "execution_count": 2,
   "metadata": {},
   "outputs": [],
   "source": [
    "import json\n",
    "from pprint import pprint\n",
    "\n",
    "info_string = \"\"\"\n",
    "{\n",
    "    \"name\": \"echo\",\n",
    "    \"age\": 24,\n",
    "    \"coding skills\": [\"python\", \"matlab\", \"java\", \"c\", \"c++\", \"ruby\", \"scala\"],\n",
    "    \"ages for school\": { \n",
    "        \"primary school\": 6,\n",
    "        \"middle school\": 9,\n",
    "        \"high school\": 15,\n",
    "        \"university\": 18\n",
    "    },\n",
    "    \"hobby\": [\"sports\", \"reading\"],\n",
    "    \"married\": false\n",
    "}\n",
    "\"\"\""
   ]
  },
  {
   "cell_type": "code",
   "execution_count": 3,
   "metadata": {},
   "outputs": [
    {
     "data": {
      "text/plain": [
       "'\\n{\\n    \"name\": \"echo\",\\n    \"age\": 24,\\n    \"coding skills\": [\"python\", \"matlab\", \"java\", \"c\", \"c++\", \"ruby\", \"scala\"],\\n    \"ages for school\": { \\n        \"primary school\": 6,\\n        \"middle school\": 9,\\n        \"high school\": 15,\\n        \"university\": 18\\n    },\\n    \"hobby\": [\"sports\", \"reading\"],\\n    \"married\": false\\n}\\n'"
      ]
     },
     "execution_count": 3,
     "metadata": {},
     "output_type": "execute_result"
    }
   ],
   "source": [
    "info_string"
   ]
  },
  {
   "cell_type": "code",
   "execution_count": 4,
   "metadata": {},
   "outputs": [
    {
     "name": "stdout",
     "output_type": "stream",
     "text": [
      "('\\n'\n",
      " '{\\n'\n",
      " '    \"name\": \"echo\",\\n'\n",
      " '    \"age\": 24,\\n'\n",
      " '    \"coding skills\": [\"python\", \"matlab\", \"java\", \"c\", \"c++\", \"ruby\", '\n",
      " '\"scala\"],\\n'\n",
      " '    \"ages for school\": { \\n'\n",
      " '        \"primary school\": 6,\\n'\n",
      " '        \"middle school\": 9,\\n'\n",
      " '        \"high school\": 15,\\n'\n",
      " '        \"university\": 18\\n'\n",
      " '    },\\n'\n",
      " '    \"hobby\": [\"sports\", \"reading\"],\\n'\n",
      " '    \"married\": false\\n'\n",
      " '}\\n')\n"
     ]
    }
   ],
   "source": [
    "pprint(info_string)"
   ]
  },
  {
   "cell_type": "code",
   "execution_count": 5,
   "metadata": {},
   "outputs": [],
   "source": [
    "info = json.loads(info_string)"
   ]
  },
  {
   "cell_type": "code",
   "execution_count": 6,
   "metadata": {},
   "outputs": [
    {
     "name": "stdout",
     "output_type": "stream",
     "text": [
      "{'age': 24,\n",
      " 'ages for school': {'high school': 15,\n",
      "                     'middle school': 9,\n",
      "                     'primary school': 6,\n",
      "                     'university': 18},\n",
      " 'coding skills': ['python', 'matlab', 'java', 'c', 'c++', 'ruby', 'scala'],\n",
      " 'hobby': ['sports', 'reading'],\n",
      " 'married': False,\n",
      " 'name': 'echo'}\n"
     ]
    }
   ],
   "source": [
    "pprint(info)"
   ]
  },
  {
   "cell_type": "code",
   "execution_count": 7,
   "metadata": {},
   "outputs": [
    {
     "data": {
      "text/plain": [
       "dict"
      ]
     },
     "execution_count": 7,
     "metadata": {},
     "output_type": "execute_result"
    }
   ],
   "source": [
    "type(info)"
   ]
  },
  {
   "cell_type": "code",
   "execution_count": 8,
   "metadata": {},
   "outputs": [],
   "source": [
    "# 可以使用json.dumps()将一个Python对象变成JSON对象："
   ]
  },
  {
   "cell_type": "code",
   "execution_count": 9,
   "metadata": {},
   "outputs": [
    {
     "name": "stdout",
     "output_type": "stream",
     "text": [
      "('{\"name\": \"echo\", \"age\": 24, \"coding skills\": [\"python\", \"matlab\", \"java\", '\n",
      " '\"c\", \"c++\", \"ruby\", \"scala\"], \"ages for school\": {\"primary school\": 6, '\n",
      " '\"middle school\": 9, \"high school\": 15, \"university\": 18}, \"hobby\": '\n",
      " '[\"sports\", \"reading\"], \"married\": false}')\n"
     ]
    }
   ],
   "source": [
    "info_json = json.dumps(info)\n",
    "pprint(info_json)"
   ]
  },
  {
   "cell_type": "code",
   "execution_count": 10,
   "metadata": {},
   "outputs": [
    {
     "data": {
      "text/plain": [
       "str"
      ]
     },
     "execution_count": 10,
     "metadata": {},
     "output_type": "execute_result"
    }
   ],
   "source": [
    "type(info_json)"
   ]
  },
  {
   "cell_type": "code",
   "execution_count": 11,
   "metadata": {},
   "outputs": [],
   "source": [
    "with open(\"info.json\", \"w\") as f:\n",
    "    json.dump(info, f)"
   ]
  },
  {
   "cell_type": "code",
   "execution_count": 13,
   "metadata": {},
   "outputs": [
    {
     "name": "stdout",
     "output_type": "stream",
     "text": [
      "{\"name\": \"echo\", \"age\": 24, \"coding skills\": [\"python\", \"matlab\", \"java\", \"c\", \"c++\", \"ruby\", \"scala\"], \"ages for school\": {\"primary school\": 6, \"middle school\": 9, \"high school\": 15, \"university\": 18}, \"hobby\": [\"sports\", \"reading\"], \"married\": false}\n"
     ]
    }
   ],
   "source": [
    "with open(\"info.json\") as f:\n",
    "    print(f.read())"
   ]
  },
  {
   "cell_type": "code",
   "execution_count": 14,
   "metadata": {},
   "outputs": [
    {
     "name": "stdout",
     "output_type": "stream",
     "text": [
      "{'age': 24,\n",
      " 'ages for school': {'high school': 15,\n",
      "                     'middle school': 9,\n",
      "                     'primary school': 6,\n",
      "                     'university': 18},\n",
      " 'coding skills': ['python', 'matlab', 'java', 'c', 'c++', 'ruby', 'scala'],\n",
      " 'hobby': ['sports', 'reading'],\n",
      " 'married': False,\n",
      " 'name': 'echo'}\n"
     ]
    }
   ],
   "source": [
    "with open(\"info.json\") as f:\n",
    "    info_from_file = json.load(f)\n",
    "    \n",
    "pprint(info_from_file)"
   ]
  },
  {
   "cell_type": "code",
   "execution_count": 15,
   "metadata": {},
   "outputs": [],
   "source": [
    "import os\n",
    "os.remove(\"info.json\")"
   ]
  },
  {
   "cell_type": "code",
   "execution_count": null,
   "metadata": {},
   "outputs": [],
   "source": []
  }
 ],
 "metadata": {
  "kernelspec": {
   "display_name": "Python 3",
   "language": "python",
   "name": "python3"
  },
  "language_info": {
   "codemirror_mode": {
    "name": "ipython",
    "version": 3
   },
   "file_extension": ".py",
   "mimetype": "text/x-python",
   "name": "python",
   "nbconvert_exporter": "python",
   "pygments_lexer": "ipython3",
   "version": "3.6.5"
  }
 },
 "nbformat": 4,
 "nbformat_minor": 2
}
